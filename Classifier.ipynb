{
 "cells": [
  {
   "cell_type": "markdown",
   "id": "afde4ba4",
   "metadata": {},
   "source": [
    "# Classifier"
   ]
  },
  {
   "cell_type": "code",
   "execution_count": 2,
   "id": "1c22b43f",
   "metadata": {
    "ExecuteTime": {
     "end_time": "2021-06-14T11:08:30.034973Z",
     "start_time": "2021-06-14T11:08:20.619650Z"
    }
   },
   "outputs": [],
   "source": [
    "import pandas as pd\n",
    "import re\n",
    "import matplotlib.pyplot as plt\n",
    "\n",
    "#Machine learning packages\n",
    "from sklearn.ensemble import RandomForestClassifier\n",
    "from sklearn.linear_model import LogisticRegression\n",
    "\n",
    "#Packages to create DFM\n",
    "from sklearn.feature_extraction.text import CountVectorizer\n",
    "from sklearn.feature_extraction.text import TfidfTransformer\n",
    "\n",
    "#Packages for cross-validation and parameter tuning\n",
    "from sklearn.model_selection import StratifiedKFold\n",
    "from sklearn.model_selection import GridSearchCV\n",
    "from sklearn.pipeline import Pipeline\n",
    "\n",
    "#Packages for getting model performance metrics\n",
    "from sklearn.metrics import plot_confusion_matrix\n",
    "from sklearn.metrics import classification_report\n",
    "from sklearn.metrics import roc_curve, auc\n",
    "from sklearn.metrics import roc_auc_score"
   ]
  },
  {
   "cell_type": "code",
   "execution_count": 3,
   "id": "41f756cb",
   "metadata": {
    "ExecuteTime": {
     "end_time": "2021-06-14T11:08:30.595567Z",
     "start_time": "2021-06-14T11:08:30.040684Z"
    }
   },
   "outputs": [
    {
     "data": {
      "text/html": [
       "<div>\n",
       "<style scoped>\n",
       "    .dataframe tbody tr th:only-of-type {\n",
       "        vertical-align: middle;\n",
       "    }\n",
       "\n",
       "    .dataframe tbody tr th {\n",
       "        vertical-align: top;\n",
       "    }\n",
       "\n",
       "    .dataframe thead th {\n",
       "        text-align: right;\n",
       "    }\n",
       "</style>\n",
       "<table border=\"1\" class=\"dataframe\">\n",
       "  <thead>\n",
       "    <tr style=\"text-align: right;\">\n",
       "      <th></th>\n",
       "      <th>actor</th>\n",
       "      <th>tweet</th>\n",
       "      <th>date</th>\n",
       "      <th>retweet</th>\n",
       "      <th>date_convert</th>\n",
       "      <th>@mentions</th>\n",
       "      <th>#hashtags</th>\n",
       "      <th>emojis</th>\n",
       "      <th>clean_text</th>\n",
       "      <th>language</th>\n",
       "      <th>words</th>\n",
       "      <th>without_stopwords</th>\n",
       "      <th>lemmas</th>\n",
       "      <th>proc_text</th>\n",
       "      <th>bigrams</th>\n",
       "      <th>proc_text_all</th>\n",
       "    </tr>\n",
       "  </thead>\n",
       "  <tbody>\n",
       "    <tr>\n",
       "      <th>0</th>\n",
       "      <td>PlanBornefonden</td>\n",
       "      <td>13-årige Larissa bor i Sahel-regionen, og var ...</td>\n",
       "      <td>2021-05-14 09:03:00</td>\n",
       "      <td>NaN</td>\n",
       "      <td>2021-05-14 00:00:00</td>\n",
       "      <td>NaN</td>\n",
       "      <td>NaN</td>\n",
       "      <td></td>\n",
       "      <td>årige larissa bor i sahelregionen og var i tvu...</td>\n",
       "      <td>da</td>\n",
       "      <td>['årige', 'larissa', 'bor', 'i', 'sahelregione...</td>\n",
       "      <td>['årige', 'larissa', 'bor', 'sahelregionen', '...</td>\n",
       "      <td>['årig', 'larissa', 'bor', 'sahelregion', 'tvi...</td>\n",
       "      <td>årig larissa bor sahelregion tvinge flygte lan...</td>\n",
       "      <td>['årig_larissa', 'larissa_bor', 'bor_sahelregi...</td>\n",
       "      <td>årig larissa bor sahelregion tvinge flygte lan...</td>\n",
       "    </tr>\n",
       "    <tr>\n",
       "      <th>1</th>\n",
       "      <td>PlanBornefonden</td>\n",
       "      <td>Vi ønsker alle muslimer en god Eid i aften! Ei...</td>\n",
       "      <td>2021-05-12 14:00:02</td>\n",
       "      <td>NaN</td>\n",
       "      <td>2021-05-12 00:00:00</td>\n",
       "      <td>NaN</td>\n",
       "      <td>NaN</td>\n",
       "      <td></td>\n",
       "      <td>vi ønsker alle muslimer en god eid i aften eid...</td>\n",
       "      <td>da</td>\n",
       "      <td>['vi', 'ønsker', 'alle', 'muslimer', 'en', 'go...</td>\n",
       "      <td>['ønsker', 'muslimer', 'god', 'eid', 'aften', ...</td>\n",
       "      <td>['ønske', 'muslim', 'god', 'eid', 'aften', 'ei...</td>\n",
       "      <td>ønske muslim god eid aften eid mubarak</td>\n",
       "      <td>['ønske_muslim', 'muslim_god', 'god_eid', 'eid...</td>\n",
       "      <td>ønske muslim god eid aften eid mubarak ønske_m...</td>\n",
       "    </tr>\n",
       "    <tr>\n",
       "      <th>2</th>\n",
       "      <td>PlanBornefonden</td>\n",
       "      <td>Kom til samtalekøkken med @BosseStine og @Clau...</td>\n",
       "      <td>2021-05-12 11:58:03</td>\n",
       "      <td>@dorthe10</td>\n",
       "      <td>2021-05-12 00:00:00</td>\n",
       "      <td>['BosseStine, ClausMeyerDK']</td>\n",
       "      <td>dkfood</td>\n",
       "      <td></td>\n",
       "      <td>kom til samtalekøkken med og den maj og spis e...</td>\n",
       "      <td>da</td>\n",
       "      <td>['kom', 'til', 'samtalekøkken', 'med', 'og', '...</td>\n",
       "      <td>['kom', 'samtalekøkken', 'maj', 'spis', 'lække...</td>\n",
       "      <td>['komme', 'samtalekøkken', 'maj', 'spise', 'læ...</td>\n",
       "      <td>komme samtalekøkken maj spise lækker ret menu ...</td>\n",
       "      <td>['komme_samtalekøkken', 'samtalekøkken_maj', '...</td>\n",
       "      <td>komme samtalekøkken maj spise lækker ret menu ...</td>\n",
       "    </tr>\n",
       "  </tbody>\n",
       "</table>\n",
       "</div>"
      ],
      "text/plain": [
       "             actor                                              tweet  \\\n",
       "0  PlanBornefonden  13-årige Larissa bor i Sahel-regionen, og var ...   \n",
       "1  PlanBornefonden  Vi ønsker alle muslimer en god Eid i aften! Ei...   \n",
       "2  PlanBornefonden  Kom til samtalekøkken med @BosseStine og @Clau...   \n",
       "\n",
       "                  date    retweet         date_convert  \\\n",
       "0  2021-05-14 09:03:00        NaN  2021-05-14 00:00:00   \n",
       "1  2021-05-12 14:00:02        NaN  2021-05-12 00:00:00   \n",
       "2  2021-05-12 11:58:03  @dorthe10  2021-05-12 00:00:00   \n",
       "\n",
       "                      @mentions #hashtags emojis  \\\n",
       "0                           NaN       NaN          \n",
       "1                           NaN       NaN          \n",
       "2  ['BosseStine, ClausMeyerDK']   dkfood           \n",
       "\n",
       "                                          clean_text language  \\\n",
       "0  årige larissa bor i sahelregionen og var i tvu...       da   \n",
       "1  vi ønsker alle muslimer en god eid i aften eid...       da   \n",
       "2  kom til samtalekøkken med og den maj og spis e...       da   \n",
       "\n",
       "                                               words  \\\n",
       "0  ['årige', 'larissa', 'bor', 'i', 'sahelregione...   \n",
       "1  ['vi', 'ønsker', 'alle', 'muslimer', 'en', 'go...   \n",
       "2  ['kom', 'til', 'samtalekøkken', 'med', 'og', '...   \n",
       "\n",
       "                                   without_stopwords  \\\n",
       "0  ['årige', 'larissa', 'bor', 'sahelregionen', '...   \n",
       "1  ['ønsker', 'muslimer', 'god', 'eid', 'aften', ...   \n",
       "2  ['kom', 'samtalekøkken', 'maj', 'spis', 'lække...   \n",
       "\n",
       "                                              lemmas  \\\n",
       "0  ['årig', 'larissa', 'bor', 'sahelregion', 'tvi...   \n",
       "1  ['ønske', 'muslim', 'god', 'eid', 'aften', 'ei...   \n",
       "2  ['komme', 'samtalekøkken', 'maj', 'spise', 'læ...   \n",
       "\n",
       "                                           proc_text  \\\n",
       "0  årig larissa bor sahelregion tvinge flygte lan...   \n",
       "1             ønske muslim god eid aften eid mubarak   \n",
       "2  komme samtalekøkken maj spise lækker ret menu ...   \n",
       "\n",
       "                                             bigrams  \\\n",
       "0  ['årig_larissa', 'larissa_bor', 'bor_sahelregi...   \n",
       "1  ['ønske_muslim', 'muslim_god', 'god_eid', 'eid...   \n",
       "2  ['komme_samtalekøkken', 'samtalekøkken_maj', '...   \n",
       "\n",
       "                                       proc_text_all  \n",
       "0  årig larissa bor sahelregion tvinge flygte lan...  \n",
       "1  ønske muslim god eid aften eid mubarak ønske_m...  \n",
       "2  komme samtalekøkken maj spise lækker ret menu ...  "
      ]
     },
     "execution_count": 3,
     "metadata": {},
     "output_type": "execute_result"
    }
   ],
   "source": [
    "data = pd.read_csv('data_danish.csv', index_col=False)\n",
    "data.head(3)"
   ]
  },
  {
   "cell_type": "code",
   "execution_count": 4,
   "id": "62ad192d",
   "metadata": {
    "ExecuteTime": {
     "end_time": "2021-06-14T11:08:30.615009Z",
     "start_time": "2021-06-14T11:08:30.602859Z"
    }
   },
   "outputs": [
    {
     "data": {
      "text/plain": [
       "'komme samtalekøkken maj spise lækker ret menu græskinspirere men klog kvindelighed kærlighed penge magte komme_samtalekøkken samtalekøkken_maj maj_spise spise_lækker lækker_ret ret_menu menu_græskinspirere græskinspirere_men men_klog klog_kvindelighed kvindelighed_kærlighed kærlighed_penge penge_magte dkfood '"
      ]
     },
     "execution_count": 4,
     "metadata": {},
     "output_type": "execute_result"
    }
   ],
   "source": [
    "data.proc_text_all[2]"
   ]
  },
  {
   "cell_type": "code",
   "execution_count": 3,
   "id": "7d6c5a02",
   "metadata": {
    "ExecuteTime": {
     "end_time": "2021-06-08T18:02:42.144586Z",
     "start_time": "2021-06-08T18:02:42.132217Z"
    }
   },
   "outputs": [],
   "source": [
    "#use proc_text_all \n",
    "critism_string = 'kalder  had_forbryder  forskel  regeringen  samme  mattiastesfaye  mattias tesfaye  politikere  ansvar  imod  ytringsfrihed  eu  no_go  racisme  stiger  uretfærdig  uretfærdigt  dumt  frigive  længe  nej  rige_lande  regeringens  umenneskelige  flygtningepolitik  pres  argumenter  smide  arbejdsløshed  drop  virker  stoppe  krise  kræver  samarbejde  træde  vigtigt  lover  lovet  danmark  klimakrisen  svigte  svigter  opråb  opråbet  verdens  fattigste  verden  fattige  svigt  mindre  skuffende  skuffe  vente  retfærdighed  nu  nwammen  wammen  minde  tid  fuldstændig  regeringdk  dk  spørge  spørger  rammer  nedskæring  tiden  uacceptabel  ret  lovgivning  kvindeundertrykkelse  menneskerettigheder  respekt  opfordrer  imod  ulovlige  står  sag  rapport  kræver  politisk  stop  mod  vold  psykiske  tænk  mens  ikke  også  klart  forpligtelse  anbefaling  i_gang  komme  grøn  retfærdighed  diskrimination  handlingsplan  ulighed  solidaritet  tiltrængt  udfordringer  anbefale  vigtigt  beskytte  udspil  bedre  beskyttelse  alle  understreger  takker  opråb  flygtninge  dansk  kæmpe  klare  udsætte  handle  afgøre  øge  styrke  demokrati  forpligtelse  bidrage  politiske  partier  egentlig  tør  opfordre   forkert  kritik  kritisere  kritiserer  dybt  problematisk  problem  problematiske  retfærdigt  appel  kummerlige  konsekvenser  uansvarligt  usolidarisk  uhensigtsmæssigt  ansvar  burde  statsministeren  misbruge  misbruger  bør  stoppe  ligestilling   argumenter  eksperter  stat  lejrene  udlændingestyrelsen  diskrimination  kønsdiskrimination  gribe' \n",
    "human_string = 'yde  assistance  engagement  forandringer  indsatser  udvikling  arbejde  civilsamfundsudvikling  støtte  borgerforslag  tak  støttes  underskriftindsamling  arrangerer  samarbejde  aktivisme  stå  stod  afstand  klimamarch  march  endelig  bannere  gaden  kræve  klimapolitik  begivenhed  sammen  fælles  akut  behov  humanitære  sender  hjælpe  sende  lokale  partnere  gøre  lytte  lyttes  handling  handle  møde  opsatte  opsat  hjulpet  fokus  ekstra  hvordan  massiv  indsats  oplysning  fået  få  vigtigheden  rådighed  stiller  stille  udsatte  tværgående  fremtid  glad  meget  give  giver  mennesker  frivillige  stor  stort  tak  udtryk  omsorg  forstå  forstået  behov  mærke  mærker  liv  børn  unge  ydmygt  ønske  alene  opleve  oplever  samfundsopgave  tanker  trist  bekymrende  andre  ikke  oplevelse  oplevelser  skole  nemt  hjælpe  hjælper  fortjent  fortjene  børnene  opmærksom  opmærksomme  opmærksomhed  ord  anderledes  gjort  plejer  følelser  føle  føler  sult  hungersnød  fattige  menneske  flygtede  nød  hjælp  barn  pige  vigtig  ung  sikre  bruge  give  sårbar  sårbare  skrøbeligt  sundhedssystem  ekstremt  svage  mistet  hjælpearbejde  parat  førstehjælp  ofre  sjæl  smerten  smerte  traume  traumatiserede  flygte  mangler  bremse  bistand  vand  rent  familie  familier  forsørge  hjerte  hjertet  fortalte  situation  fantastisk  foruroligende  syg'"
   ]
  },
  {
   "cell_type": "code",
   "execution_count": 4,
   "id": "c3b48885",
   "metadata": {
    "ExecuteTime": {
     "end_time": "2021-06-08T18:02:43.806461Z",
     "start_time": "2021-06-08T18:02:42.148363Z"
    }
   },
   "outputs": [],
   "source": [
    "from nltk.tokenize import TweetTokenizer\n",
    "tknzr = TweetTokenizer()\n",
    "\n",
    "critism = tknzr.tokenize(critism_string)\n",
    "human = tknzr.tokenize(human_string)"
   ]
  },
  {
   "cell_type": "code",
   "execution_count": 5,
   "id": "dc37f8cc",
   "metadata": {
    "ExecuteTime": {
     "end_time": "2021-06-08T18:02:43.846027Z",
     "start_time": "2021-06-08T18:02:43.810860Z"
    }
   },
   "outputs": [
    {
     "data": {
      "text/plain": [
       "1889.8000000000002"
      ]
     },
     "execution_count": 5,
     "metadata": {},
     "output_type": "execute_result"
    }
   ],
   "source": [
    "len(data)*0.2"
   ]
  },
  {
   "cell_type": "code",
   "execution_count": 6,
   "id": "39d89fc3",
   "metadata": {
    "ExecuteTime": {
     "end_time": "2021-06-08T18:02:46.135576Z",
     "start_time": "2021-06-08T18:02:43.851411Z"
    }
   },
   "outputs": [],
   "source": [
    "list_of_tokens = []\n",
    "for string in data['proc_text_all']:\n",
    "    item = tknzr.tokenize(string)\n",
    "    list_of_tokens.append(item)\n",
    "\n",
    "data['tokens'] = list_of_tokens"
   ]
  },
  {
   "cell_type": "code",
   "execution_count": 7,
   "id": "6452b9b4",
   "metadata": {
    "ExecuteTime": {
     "end_time": "2021-06-08T18:02:48.692424Z",
     "start_time": "2021-06-08T18:02:46.144904Z"
    }
   },
   "outputs": [],
   "source": [
    "#count how many words find in the respective lists \n",
    "\n",
    "critism_n = []\n",
    "for words in data['tokens']: #this shall be tokens \n",
    "    i = 0\n",
    "    for token in words:\n",
    "        if token in critism:\n",
    "            i += 1 \n",
    "    critism_n.append(i)\n",
    "\n",
    "data['critism'] = critism_n\n",
    "\n",
    "#If equal number of words, drop \n",
    "human_n = []\n",
    "for words in data['tokens']: #this shall be tokens \n",
    "    i = 0\n",
    "    for token in words:\n",
    "        if token in human:\n",
    "            i += 1 \n",
    "    human_n.append(i)\n",
    "\n",
    "data['human'] = human_n\n",
    "    "
   ]
  },
  {
   "cell_type": "code",
   "execution_count": 8,
   "id": "6a5afa9f",
   "metadata": {
    "ExecuteTime": {
     "end_time": "2021-06-08T18:02:48.791843Z",
     "start_time": "2021-06-08T18:02:48.732802Z"
    }
   },
   "outputs": [
    {
     "data": {
      "text/html": [
       "<div>\n",
       "<style scoped>\n",
       "    .dataframe tbody tr th:only-of-type {\n",
       "        vertical-align: middle;\n",
       "    }\n",
       "\n",
       "    .dataframe tbody tr th {\n",
       "        vertical-align: top;\n",
       "    }\n",
       "\n",
       "    .dataframe thead th {\n",
       "        text-align: right;\n",
       "    }\n",
       "</style>\n",
       "<table border=\"1\" class=\"dataframe\">\n",
       "  <thead>\n",
       "    <tr style=\"text-align: right;\">\n",
       "      <th></th>\n",
       "      <th>actor</th>\n",
       "      <th>tweet</th>\n",
       "      <th>date</th>\n",
       "      <th>retweet</th>\n",
       "      <th>date_convert</th>\n",
       "      <th>@mentions</th>\n",
       "      <th>#hashtags</th>\n",
       "      <th>emojis</th>\n",
       "      <th>clean_text</th>\n",
       "      <th>language</th>\n",
       "      <th>words</th>\n",
       "      <th>without_stopwords</th>\n",
       "      <th>lemmas</th>\n",
       "      <th>proc_text</th>\n",
       "      <th>bigrams</th>\n",
       "      <th>proc_text_all</th>\n",
       "      <th>tokens</th>\n",
       "      <th>critism</th>\n",
       "      <th>human</th>\n",
       "    </tr>\n",
       "  </thead>\n",
       "  <tbody>\n",
       "    <tr>\n",
       "      <th>0</th>\n",
       "      <td>PlanBornefonden</td>\n",
       "      <td>13-årige Larissa bor i Sahel-regionen, og var ...</td>\n",
       "      <td>2021-05-14 09:03:00</td>\n",
       "      <td>NaN</td>\n",
       "      <td>2021-05-14 00:00:00</td>\n",
       "      <td>NaN</td>\n",
       "      <td>NaN</td>\n",
       "      <td></td>\n",
       "      <td>årige larissa bor i sahelregionen og var i tvu...</td>\n",
       "      <td>da</td>\n",
       "      <td>['årige', 'larissa', 'bor', 'i', 'sahelregione...</td>\n",
       "      <td>['årige', 'larissa', 'bor', 'sahelregionen', '...</td>\n",
       "      <td>['årig', 'larissa', 'bor', 'sahelregion', 'tvi...</td>\n",
       "      <td>årig larissa bor sahelregion tvinge flygte lan...</td>\n",
       "      <td>['årig_larissa', 'larissa_bor', 'bor_sahelregi...</td>\n",
       "      <td>årig larissa bor sahelregion tvinge flygte lan...</td>\n",
       "      <td>[årig, larissa, bor, sahelregion, tvinge, flyg...</td>\n",
       "      <td>0</td>\n",
       "      <td>3</td>\n",
       "    </tr>\n",
       "    <tr>\n",
       "      <th>1</th>\n",
       "      <td>PlanBornefonden</td>\n",
       "      <td>Vi ønsker alle muslimer en god Eid i aften! Ei...</td>\n",
       "      <td>2021-05-12 14:00:02</td>\n",
       "      <td>NaN</td>\n",
       "      <td>2021-05-12 00:00:00</td>\n",
       "      <td>NaN</td>\n",
       "      <td>NaN</td>\n",
       "      <td></td>\n",
       "      <td>vi ønsker alle muslimer en god eid i aften eid...</td>\n",
       "      <td>da</td>\n",
       "      <td>['vi', 'ønsker', 'alle', 'muslimer', 'en', 'go...</td>\n",
       "      <td>['ønsker', 'muslimer', 'god', 'eid', 'aften', ...</td>\n",
       "      <td>['ønske', 'muslim', 'god', 'eid', 'aften', 'ei...</td>\n",
       "      <td>ønske muslim god eid aften eid mubarak</td>\n",
       "      <td>['ønske_muslim', 'muslim_god', 'god_eid', 'eid...</td>\n",
       "      <td>ønske muslim god eid aften eid mubarak ønske_m...</td>\n",
       "      <td>[ønske, muslim, god, eid, aften, eid, mubarak,...</td>\n",
       "      <td>0</td>\n",
       "      <td>1</td>\n",
       "    </tr>\n",
       "  </tbody>\n",
       "</table>\n",
       "</div>"
      ],
      "text/plain": [
       "             actor                                              tweet  \\\n",
       "0  PlanBornefonden  13-årige Larissa bor i Sahel-regionen, og var ...   \n",
       "1  PlanBornefonden  Vi ønsker alle muslimer en god Eid i aften! Ei...   \n",
       "\n",
       "                  date retweet         date_convert @mentions #hashtags  \\\n",
       "0  2021-05-14 09:03:00     NaN  2021-05-14 00:00:00       NaN       NaN   \n",
       "1  2021-05-12 14:00:02     NaN  2021-05-12 00:00:00       NaN       NaN   \n",
       "\n",
       "  emojis                                         clean_text language  \\\n",
       "0         årige larissa bor i sahelregionen og var i tvu...       da   \n",
       "1         vi ønsker alle muslimer en god eid i aften eid...       da   \n",
       "\n",
       "                                               words  \\\n",
       "0  ['årige', 'larissa', 'bor', 'i', 'sahelregione...   \n",
       "1  ['vi', 'ønsker', 'alle', 'muslimer', 'en', 'go...   \n",
       "\n",
       "                                   without_stopwords  \\\n",
       "0  ['årige', 'larissa', 'bor', 'sahelregionen', '...   \n",
       "1  ['ønsker', 'muslimer', 'god', 'eid', 'aften', ...   \n",
       "\n",
       "                                              lemmas  \\\n",
       "0  ['årig', 'larissa', 'bor', 'sahelregion', 'tvi...   \n",
       "1  ['ønske', 'muslim', 'god', 'eid', 'aften', 'ei...   \n",
       "\n",
       "                                           proc_text  \\\n",
       "0  årig larissa bor sahelregion tvinge flygte lan...   \n",
       "1             ønske muslim god eid aften eid mubarak   \n",
       "\n",
       "                                             bigrams  \\\n",
       "0  ['årig_larissa', 'larissa_bor', 'bor_sahelregi...   \n",
       "1  ['ønske_muslim', 'muslim_god', 'god_eid', 'eid...   \n",
       "\n",
       "                                       proc_text_all  \\\n",
       "0  årig larissa bor sahelregion tvinge flygte lan...   \n",
       "1  ønske muslim god eid aften eid mubarak ønske_m...   \n",
       "\n",
       "                                              tokens  critism  human  \n",
       "0  [årig, larissa, bor, sahelregion, tvinge, flyg...        0      3  \n",
       "1  [ønske, muslim, god, eid, aften, eid, mubarak,...        0      1  "
      ]
     },
     "execution_count": 8,
     "metadata": {},
     "output_type": "execute_result"
    }
   ],
   "source": [
    "data.head(2)"
   ]
  },
  {
   "cell_type": "code",
   "execution_count": 9,
   "id": "f6ea23ad",
   "metadata": {
    "ExecuteTime": {
     "end_time": "2021-06-08T18:02:50.979801Z",
     "start_time": "2021-06-08T18:02:48.806564Z"
    }
   },
   "outputs": [],
   "source": [
    "#Has the tweets most words from human or critism? Or equal number of words\n",
    "\n",
    "class_type = []\n",
    "\n",
    "for i, row in data.iterrows():\n",
    "    if row.critism > row.human:\n",
    "        class_type.append('critism')\n",
    "    elif row.human > row.critism:\n",
    "        class_type.append('human')\n",
    "    else:\n",
    "        class_type.append('equal')\n",
    "\n",
    "data['class'] = class_type\n"
   ]
  },
  {
   "cell_type": "code",
   "execution_count": 10,
   "id": "f30630e7",
   "metadata": {
    "ExecuteTime": {
     "end_time": "2021-06-08T18:02:51.067029Z",
     "start_time": "2021-06-08T18:02:50.986903Z"
    }
   },
   "outputs": [
    {
     "name": "stdout",
     "output_type": "stream",
     "text": [
      "Shape of labeled dataset: (8504, 21) \n",
      "Shape of unlabeled dataset: (945, 21)\n"
     ]
    }
   ],
   "source": [
    "data['class_type'] = data['class'].apply(lambda x: 1 if x == 'critism' else 0)\n",
    "\n",
    "\n",
    "#Creating a test dataset \n",
    "unlabeled = data.sample(n = round((len(data)*0.1)), axis = 0)\n",
    "unlabeled = unlabeled.reset_index(drop=True)\n",
    "\n",
    "#creating test dataset \n",
    "labeled = data\n",
    "labeled = data.drop(unlabeled.index, axis=0)\n",
    "\n",
    "print('Shape of labeled dataset:',labeled.shape,\n",
    "      '\\nShape of unlabeled dataset:',unlabeled.shape)"
   ]
  },
  {
   "cell_type": "code",
   "execution_count": 11,
   "id": "51bfbd5b",
   "metadata": {
    "ExecuteTime": {
     "end_time": "2021-06-08T18:02:51.097252Z",
     "start_time": "2021-06-08T18:02:51.076453Z"
    }
   },
   "outputs": [
    {
     "name": "stdout",
     "output_type": "stream",
     "text": [
      "Before dropping equal classes: 8504\n",
      "After dropping equal classes: 6476\n"
     ]
    }
   ],
   "source": [
    "#If equal number of words, drop \n",
    "print('Before dropping equal classes:', len(labeled))\n",
    "labeled = labeled[labeled['class'] != 'equal']\n",
    "\n",
    "print('After dropping equal classes:', len(labeled))"
   ]
  },
  {
   "cell_type": "code",
   "execution_count": 12,
   "id": "35f9af1a",
   "metadata": {
    "ExecuteTime": {
     "end_time": "2021-06-08T18:02:51.110595Z",
     "start_time": "2021-06-08T18:02:51.104897Z"
    }
   },
   "outputs": [],
   "source": [
    "#Splitting features into X and y\n",
    "X = labeled['proc_text_all']\n",
    "y = labeled['class_type'].values"
   ]
  },
  {
   "cell_type": "markdown",
   "id": "ce66e04e",
   "metadata": {},
   "source": [
    "# Supervised Learning: Lasso"
   ]
  },
  {
   "cell_type": "code",
   "execution_count": 13,
   "id": "a715fa63",
   "metadata": {
    "ExecuteTime": {
     "end_time": "2021-06-08T18:02:51.121738Z",
     "start_time": "2021-06-08T18:02:51.116185Z"
    }
   },
   "outputs": [],
   "source": [
    "#Initializing the pipeline\n",
    "pipeline = Pipeline([\n",
    "    ('vect', CountVectorizer(ngram_range = (1,2), max_df = 0.999, min_df = 0.01, tokenizer = tknzr.tokenize)),\n",
    "    ('tfidf', TfidfTransformer()),\n",
    "    ('lasso', LogisticRegression(penalty = 'l1', solver = 'saga', max_iter = 1000)),\n",
    "])"
   ]
  },
  {
   "cell_type": "code",
   "execution_count": 14,
   "id": "d2b09719",
   "metadata": {
    "ExecuteTime": {
     "end_time": "2021-06-08T18:02:51.137601Z",
     "start_time": "2021-06-08T18:02:51.130367Z"
    }
   },
   "outputs": [],
   "source": [
    "#Setting the parameter grid \n",
    "parameter_grid = {\n",
    "    'tfidf__use_idf': [True, False],\n",
    "    'lasso__C': [0.05, 0.1, 0.5, 1, 5]}\n",
    "\n",
    "#Initializing a kfold with 5 folds\n",
    "cv = StratifiedKFold(n_splits=5)\n",
    "\n",
    "lasso_search = GridSearchCV(pipeline, parameter_grid, cv=cv, verbose=10)"
   ]
  },
  {
   "cell_type": "code",
   "execution_count": 15,
   "id": "9867a3ea",
   "metadata": {
    "ExecuteTime": {
     "end_time": "2021-06-08T18:04:52.471375Z",
     "start_time": "2021-06-08T18:02:51.143321Z"
    }
   },
   "outputs": [
    {
     "name": "stdout",
     "output_type": "stream",
     "text": [
      "Fitting 5 folds for each of 10 candidates, totalling 50 fits\n",
      "[CV 1/5; 1/10] START lasso__C=0.05, tfidf__use_idf=True.........................\n",
      "[CV 1/5; 1/10] END .......lasso__C=0.05, tfidf__use_idf=True; total time=   2.6s\n",
      "[CV 2/5; 1/10] START lasso__C=0.05, tfidf__use_idf=True.........................\n",
      "[CV 2/5; 1/10] END .......lasso__C=0.05, tfidf__use_idf=True; total time=   2.1s\n",
      "[CV 3/5; 1/10] START lasso__C=0.05, tfidf__use_idf=True.........................\n",
      "[CV 3/5; 1/10] END .......lasso__C=0.05, tfidf__use_idf=True; total time=   2.2s\n",
      "[CV 4/5; 1/10] START lasso__C=0.05, tfidf__use_idf=True.........................\n",
      "[CV 4/5; 1/10] END .......lasso__C=0.05, tfidf__use_idf=True; total time=   2.2s\n",
      "[CV 5/5; 1/10] START lasso__C=0.05, tfidf__use_idf=True.........................\n",
      "[CV 5/5; 1/10] END .......lasso__C=0.05, tfidf__use_idf=True; total time=   2.1s\n",
      "[CV 1/5; 2/10] START lasso__C=0.05, tfidf__use_idf=False........................\n",
      "[CV 1/5; 2/10] END ......lasso__C=0.05, tfidf__use_idf=False; total time=   2.1s\n",
      "[CV 2/5; 2/10] START lasso__C=0.05, tfidf__use_idf=False........................\n",
      "[CV 2/5; 2/10] END ......lasso__C=0.05, tfidf__use_idf=False; total time=   2.1s\n",
      "[CV 3/5; 2/10] START lasso__C=0.05, tfidf__use_idf=False........................\n",
      "[CV 3/5; 2/10] END ......lasso__C=0.05, tfidf__use_idf=False; total time=   2.1s\n",
      "[CV 4/5; 2/10] START lasso__C=0.05, tfidf__use_idf=False........................\n",
      "[CV 4/5; 2/10] END ......lasso__C=0.05, tfidf__use_idf=False; total time=   2.1s\n",
      "[CV 5/5; 2/10] START lasso__C=0.05, tfidf__use_idf=False........................\n",
      "[CV 5/5; 2/10] END ......lasso__C=0.05, tfidf__use_idf=False; total time=   2.4s\n",
      "[CV 1/5; 3/10] START lasso__C=0.1, tfidf__use_idf=True..........................\n",
      "[CV 1/5; 3/10] END ........lasso__C=0.1, tfidf__use_idf=True; total time=   2.1s\n",
      "[CV 2/5; 3/10] START lasso__C=0.1, tfidf__use_idf=True..........................\n",
      "[CV 2/5; 3/10] END ........lasso__C=0.1, tfidf__use_idf=True; total time=   2.1s\n",
      "[CV 3/5; 3/10] START lasso__C=0.1, tfidf__use_idf=True..........................\n",
      "[CV 3/5; 3/10] END ........lasso__C=0.1, tfidf__use_idf=True; total time=   2.1s\n",
      "[CV 4/5; 3/10] START lasso__C=0.1, tfidf__use_idf=True..........................\n",
      "[CV 4/5; 3/10] END ........lasso__C=0.1, tfidf__use_idf=True; total time=   2.1s\n",
      "[CV 5/5; 3/10] START lasso__C=0.1, tfidf__use_idf=True..........................\n",
      "[CV 5/5; 3/10] END ........lasso__C=0.1, tfidf__use_idf=True; total time=   2.1s\n",
      "[CV 1/5; 4/10] START lasso__C=0.1, tfidf__use_idf=False.........................\n",
      "[CV 1/5; 4/10] END .......lasso__C=0.1, tfidf__use_idf=False; total time=   2.1s\n",
      "[CV 2/5; 4/10] START lasso__C=0.1, tfidf__use_idf=False.........................\n",
      "[CV 2/5; 4/10] END .......lasso__C=0.1, tfidf__use_idf=False; total time=   2.1s\n",
      "[CV 3/5; 4/10] START lasso__C=0.1, tfidf__use_idf=False.........................\n",
      "[CV 3/5; 4/10] END .......lasso__C=0.1, tfidf__use_idf=False; total time=   2.1s\n",
      "[CV 4/5; 4/10] START lasso__C=0.1, tfidf__use_idf=False.........................\n",
      "[CV 4/5; 4/10] END .......lasso__C=0.1, tfidf__use_idf=False; total time=   2.1s\n",
      "[CV 5/5; 4/10] START lasso__C=0.1, tfidf__use_idf=False.........................\n",
      "[CV 5/5; 4/10] END .......lasso__C=0.1, tfidf__use_idf=False; total time=   2.1s\n",
      "[CV 1/5; 5/10] START lasso__C=0.5, tfidf__use_idf=True..........................\n",
      "[CV 1/5; 5/10] END ........lasso__C=0.5, tfidf__use_idf=True; total time=   2.1s\n",
      "[CV 2/5; 5/10] START lasso__C=0.5, tfidf__use_idf=True..........................\n",
      "[CV 2/5; 5/10] END ........lasso__C=0.5, tfidf__use_idf=True; total time=   2.1s\n",
      "[CV 3/5; 5/10] START lasso__C=0.5, tfidf__use_idf=True..........................\n",
      "[CV 3/5; 5/10] END ........lasso__C=0.5, tfidf__use_idf=True; total time=   2.1s\n",
      "[CV 4/5; 5/10] START lasso__C=0.5, tfidf__use_idf=True..........................\n",
      "[CV 4/5; 5/10] END ........lasso__C=0.5, tfidf__use_idf=True; total time=   2.1s\n",
      "[CV 5/5; 5/10] START lasso__C=0.5, tfidf__use_idf=True..........................\n",
      "[CV 5/5; 5/10] END ........lasso__C=0.5, tfidf__use_idf=True; total time=   2.1s\n",
      "[CV 1/5; 6/10] START lasso__C=0.5, tfidf__use_idf=False.........................\n",
      "[CV 1/5; 6/10] END .......lasso__C=0.5, tfidf__use_idf=False; total time=   2.1s\n",
      "[CV 2/5; 6/10] START lasso__C=0.5, tfidf__use_idf=False.........................\n",
      "[CV 2/5; 6/10] END .......lasso__C=0.5, tfidf__use_idf=False; total time=   2.3s\n",
      "[CV 3/5; 6/10] START lasso__C=0.5, tfidf__use_idf=False.........................\n",
      "[CV 3/5; 6/10] END .......lasso__C=0.5, tfidf__use_idf=False; total time=   2.1s\n",
      "[CV 4/5; 6/10] START lasso__C=0.5, tfidf__use_idf=False.........................\n",
      "[CV 4/5; 6/10] END .......lasso__C=0.5, tfidf__use_idf=False; total time=   2.1s\n",
      "[CV 5/5; 6/10] START lasso__C=0.5, tfidf__use_idf=False.........................\n",
      "[CV 5/5; 6/10] END .......lasso__C=0.5, tfidf__use_idf=False; total time=   2.1s\n",
      "[CV 1/5; 7/10] START lasso__C=1, tfidf__use_idf=True............................\n",
      "[CV 1/5; 7/10] END ..........lasso__C=1, tfidf__use_idf=True; total time=   2.1s\n",
      "[CV 2/5; 7/10] START lasso__C=1, tfidf__use_idf=True............................\n",
      "[CV 2/5; 7/10] END ..........lasso__C=1, tfidf__use_idf=True; total time=   2.1s\n",
      "[CV 3/5; 7/10] START lasso__C=1, tfidf__use_idf=True............................\n",
      "[CV 3/5; 7/10] END ..........lasso__C=1, tfidf__use_idf=True; total time=   2.2s\n",
      "[CV 4/5; 7/10] START lasso__C=1, tfidf__use_idf=True............................\n",
      "[CV 4/5; 7/10] END ..........lasso__C=1, tfidf__use_idf=True; total time=   2.2s\n",
      "[CV 5/5; 7/10] START lasso__C=1, tfidf__use_idf=True............................\n",
      "[CV 5/5; 7/10] END ..........lasso__C=1, tfidf__use_idf=True; total time=   2.1s\n",
      "[CV 1/5; 8/10] START lasso__C=1, tfidf__use_idf=False...........................\n",
      "[CV 1/5; 8/10] END .........lasso__C=1, tfidf__use_idf=False; total time=   2.1s\n",
      "[CV 2/5; 8/10] START lasso__C=1, tfidf__use_idf=False...........................\n",
      "[CV 2/5; 8/10] END .........lasso__C=1, tfidf__use_idf=False; total time=   2.1s\n",
      "[CV 3/5; 8/10] START lasso__C=1, tfidf__use_idf=False...........................\n",
      "[CV 3/5; 8/10] END .........lasso__C=1, tfidf__use_idf=False; total time=   2.2s\n",
      "[CV 4/5; 8/10] START lasso__C=1, tfidf__use_idf=False...........................\n",
      "[CV 4/5; 8/10] END .........lasso__C=1, tfidf__use_idf=False; total time=   2.1s\n",
      "[CV 5/5; 8/10] START lasso__C=1, tfidf__use_idf=False...........................\n",
      "[CV 5/5; 8/10] END .........lasso__C=1, tfidf__use_idf=False; total time=   2.2s\n",
      "[CV 1/5; 9/10] START lasso__C=5, tfidf__use_idf=True............................\n",
      "[CV 1/5; 9/10] END ..........lasso__C=5, tfidf__use_idf=True; total time=   3.2s\n",
      "[CV 2/5; 9/10] START lasso__C=5, tfidf__use_idf=True............................\n",
      "[CV 2/5; 9/10] END ..........lasso__C=5, tfidf__use_idf=True; total time=   2.9s\n",
      "[CV 3/5; 9/10] START lasso__C=5, tfidf__use_idf=True............................\n",
      "[CV 3/5; 9/10] END ..........lasso__C=5, tfidf__use_idf=True; total time=   3.2s\n",
      "[CV 4/5; 9/10] START lasso__C=5, tfidf__use_idf=True............................\n",
      "[CV 4/5; 9/10] END ..........lasso__C=5, tfidf__use_idf=True; total time=   2.9s\n",
      "[CV 5/5; 9/10] START lasso__C=5, tfidf__use_idf=True............................\n",
      "[CV 5/5; 9/10] END ..........lasso__C=5, tfidf__use_idf=True; total time=   3.0s\n",
      "[CV 1/5; 10/10] START lasso__C=5, tfidf__use_idf=False..........................\n",
      "[CV 1/5; 10/10] END ........lasso__C=5, tfidf__use_idf=False; total time=   3.1s\n",
      "[CV 2/5; 10/10] START lasso__C=5, tfidf__use_idf=False..........................\n",
      "[CV 2/5; 10/10] END ........lasso__C=5, tfidf__use_idf=False; total time=   3.0s\n",
      "[CV 3/5; 10/10] START lasso__C=5, tfidf__use_idf=False..........................\n",
      "[CV 3/5; 10/10] END ........lasso__C=5, tfidf__use_idf=False; total time=   3.3s\n",
      "[CV 4/5; 10/10] START lasso__C=5, tfidf__use_idf=False..........................\n",
      "[CV 4/5; 10/10] END ........lasso__C=5, tfidf__use_idf=False; total time=   3.1s\n",
      "[CV 5/5; 10/10] START lasso__C=5, tfidf__use_idf=False..........................\n",
      "[CV 5/5; 10/10] END ........lasso__C=5, tfidf__use_idf=False; total time=   3.1s\n"
     ]
    }
   ],
   "source": [
    "lasso_result = lasso_search.fit(X, y)\n",
    "\n",
    "#lasso_result.best_estimator_"
   ]
  },
  {
   "cell_type": "code",
   "execution_count": 16,
   "id": "3a9038fd",
   "metadata": {
    "ExecuteTime": {
     "end_time": "2021-06-08T18:04:52.484276Z",
     "start_time": "2021-06-08T18:04:52.474403Z"
    }
   },
   "outputs": [
    {
     "name": "stdout",
     "output_type": "stream",
     "text": [
      "Here we se the parameters of the best Lasso model: {'lasso__C': 5, 'tfidf__use_idf': False} \n",
      "Avg. accuracy score of the best performing model: 0.9581516039849373\n"
     ]
    }
   ],
   "source": [
    "#Finding the best performing model and saving it \n",
    "bestlasso = lasso_result.best_estimator_\n",
    "\n",
    "print('Here we se the parameters of the best Lasso model:',lasso_result.best_params_,\n",
    "      '\\nAvg. accuracy score of the best performing model:',lasso_result.best_score_)\n"
   ]
  },
  {
   "cell_type": "code",
   "execution_count": 17,
   "id": "84736f3b",
   "metadata": {
    "ExecuteTime": {
     "end_time": "2021-06-08T18:04:52.520213Z",
     "start_time": "2021-06-08T18:04:52.490823Z"
    }
   },
   "outputs": [
    {
     "name": "stdout",
     "output_type": "stream",
     "text": [
      "Result of best model with tf-idf vectorizing:\t [0.9572252]\n",
      "Result of best model with count vectorizing:\t [0.9581516]\n"
     ]
    }
   ],
   "source": [
    "#Investigate the difference between using plain frequencies and tf-idf\n",
    "\n",
    "#Saving the results of all parameters in a dataframe\n",
    "lasso_result_df = pd.DataFrame(lasso_result.cv_results_)\n",
    "\n",
    "#Locating and printing the accuracy results of the two vectorizers with the optimal C parameter value\n",
    "print('Result of best model with tf-idf vectorizing:\\t',\n",
    "      lasso_result_df.loc[(lasso_result_df.param_tfidf__use_idf == True)\n",
    "                          & (lasso_result_df.param_lasso__C == 5)]['mean_test_score'].values)\n",
    "\n",
    "print('Result of best model with count vectorizing:\\t',\n",
    "      lasso_result_df.loc[(lasso_result_df.param_tfidf__use_idf == False)\n",
    "                    & (lasso_result_df.param_lasso__C == 5)]['mean_test_score'].values)\n",
    "\n",
    "\n",
    "#Here we see that the tf-idf vectorizing performs better than the count vectorizer. \n"
   ]
  },
  {
   "cell_type": "code",
   "execution_count": 18,
   "id": "51bec5c2",
   "metadata": {
    "ExecuteTime": {
     "end_time": "2021-06-08T18:04:52.580132Z",
     "start_time": "2021-06-08T18:04:52.528783Z"
    }
   },
   "outputs": [
    {
     "data": {
      "text/html": [
       "<div>\n",
       "<style scoped>\n",
       "    .dataframe tbody tr th:only-of-type {\n",
       "        vertical-align: middle;\n",
       "    }\n",
       "\n",
       "    .dataframe tbody tr th {\n",
       "        vertical-align: top;\n",
       "    }\n",
       "\n",
       "    .dataframe thead th {\n",
       "        text-align: right;\n",
       "    }\n",
       "</style>\n",
       "<table border=\"1\" class=\"dataframe\">\n",
       "  <thead>\n",
       "    <tr style=\"text-align: right;\">\n",
       "      <th></th>\n",
       "      <th>mean_fit_time</th>\n",
       "      <th>std_fit_time</th>\n",
       "      <th>mean_score_time</th>\n",
       "      <th>std_score_time</th>\n",
       "      <th>param_lasso__C</th>\n",
       "      <th>param_tfidf__use_idf</th>\n",
       "      <th>params</th>\n",
       "      <th>split0_test_score</th>\n",
       "      <th>split1_test_score</th>\n",
       "      <th>split2_test_score</th>\n",
       "      <th>split3_test_score</th>\n",
       "      <th>split4_test_score</th>\n",
       "      <th>mean_test_score</th>\n",
       "      <th>std_test_score</th>\n",
       "      <th>rank_test_score</th>\n",
       "    </tr>\n",
       "  </thead>\n",
       "  <tbody>\n",
       "    <tr>\n",
       "      <th>0</th>\n",
       "      <td>1.899923</td>\n",
       "      <td>0.157432</td>\n",
       "      <td>0.351921</td>\n",
       "      <td>0.016565</td>\n",
       "      <td>0.05</td>\n",
       "      <td>True</td>\n",
       "      <td>{'lasso__C': 0.05, 'tfidf__use_idf': True}</td>\n",
       "      <td>0.771605</td>\n",
       "      <td>0.755212</td>\n",
       "      <td>0.753668</td>\n",
       "      <td>0.749035</td>\n",
       "      <td>0.762934</td>\n",
       "      <td>0.758491</td>\n",
       "      <td>0.007939</td>\n",
       "      <td>10</td>\n",
       "    </tr>\n",
       "    <tr>\n",
       "      <th>1</th>\n",
       "      <td>1.796812</td>\n",
       "      <td>0.113236</td>\n",
       "      <td>0.360305</td>\n",
       "      <td>0.022778</td>\n",
       "      <td>0.05</td>\n",
       "      <td>False</td>\n",
       "      <td>{'lasso__C': 0.05, 'tfidf__use_idf': False}</td>\n",
       "      <td>0.790123</td>\n",
       "      <td>0.780695</td>\n",
       "      <td>0.773745</td>\n",
       "      <td>0.772201</td>\n",
       "      <td>0.766023</td>\n",
       "      <td>0.776558</td>\n",
       "      <td>0.008234</td>\n",
       "      <td>9</td>\n",
       "    </tr>\n",
       "    <tr>\n",
       "      <th>2</th>\n",
       "      <td>1.755026</td>\n",
       "      <td>0.027815</td>\n",
       "      <td>0.332348</td>\n",
       "      <td>0.028881</td>\n",
       "      <td>0.1</td>\n",
       "      <td>True</td>\n",
       "      <td>{'lasso__C': 0.1, 'tfidf__use_idf': True}</td>\n",
       "      <td>0.891975</td>\n",
       "      <td>0.849421</td>\n",
       "      <td>0.853282</td>\n",
       "      <td>0.837066</td>\n",
       "      <td>0.830116</td>\n",
       "      <td>0.852372</td>\n",
       "      <td>0.021483</td>\n",
       "      <td>7</td>\n",
       "    </tr>\n",
       "    <tr>\n",
       "      <th>3</th>\n",
       "      <td>1.732984</td>\n",
       "      <td>0.021116</td>\n",
       "      <td>0.353035</td>\n",
       "      <td>0.017924</td>\n",
       "      <td>0.1</td>\n",
       "      <td>False</td>\n",
       "      <td>{'lasso__C': 0.1, 'tfidf__use_idf': False}</td>\n",
       "      <td>0.870370</td>\n",
       "      <td>0.850965</td>\n",
       "      <td>0.849421</td>\n",
       "      <td>0.840154</td>\n",
       "      <td>0.816988</td>\n",
       "      <td>0.845580</td>\n",
       "      <td>0.017351</td>\n",
       "      <td>8</td>\n",
       "    </tr>\n",
       "    <tr>\n",
       "      <th>4</th>\n",
       "      <td>1.753875</td>\n",
       "      <td>0.026370</td>\n",
       "      <td>0.358705</td>\n",
       "      <td>0.017523</td>\n",
       "      <td>0.5</td>\n",
       "      <td>True</td>\n",
       "      <td>{'lasso__C': 0.5, 'tfidf__use_idf': True}</td>\n",
       "      <td>0.966049</td>\n",
       "      <td>0.948263</td>\n",
       "      <td>0.945946</td>\n",
       "      <td>0.955985</td>\n",
       "      <td>0.938996</td>\n",
       "      <td>0.951048</td>\n",
       "      <td>0.009257</td>\n",
       "      <td>5</td>\n",
       "    </tr>\n",
       "    <tr>\n",
       "      <th>5</th>\n",
       "      <td>1.807679</td>\n",
       "      <td>0.088731</td>\n",
       "      <td>0.332514</td>\n",
       "      <td>0.028496</td>\n",
       "      <td>0.5</td>\n",
       "      <td>False</td>\n",
       "      <td>{'lasso__C': 0.5, 'tfidf__use_idf': False}</td>\n",
       "      <td>0.964506</td>\n",
       "      <td>0.945946</td>\n",
       "      <td>0.947490</td>\n",
       "      <td>0.955985</td>\n",
       "      <td>0.932819</td>\n",
       "      <td>0.949349</td>\n",
       "      <td>0.010602</td>\n",
       "      <td>6</td>\n",
       "    </tr>\n",
       "    <tr>\n",
       "      <th>6</th>\n",
       "      <td>1.794865</td>\n",
       "      <td>0.041777</td>\n",
       "      <td>0.356022</td>\n",
       "      <td>0.013506</td>\n",
       "      <td>1</td>\n",
       "      <td>True</td>\n",
       "      <td>{'lasso__C': 1, 'tfidf__use_idf': True}</td>\n",
       "      <td>0.970679</td>\n",
       "      <td>0.958301</td>\n",
       "      <td>0.952896</td>\n",
       "      <td>0.954440</td>\n",
       "      <td>0.945174</td>\n",
       "      <td>0.956298</td>\n",
       "      <td>0.008362</td>\n",
       "      <td>3</td>\n",
       "    </tr>\n",
       "    <tr>\n",
       "      <th>7</th>\n",
       "      <td>1.815354</td>\n",
       "      <td>0.061064</td>\n",
       "      <td>0.345132</td>\n",
       "      <td>0.016560</td>\n",
       "      <td>1</td>\n",
       "      <td>False</td>\n",
       "      <td>{'lasso__C': 1, 'tfidf__use_idf': False}</td>\n",
       "      <td>0.969136</td>\n",
       "      <td>0.956757</td>\n",
       "      <td>0.954440</td>\n",
       "      <td>0.955212</td>\n",
       "      <td>0.944402</td>\n",
       "      <td>0.955989</td>\n",
       "      <td>0.007883</td>\n",
       "      <td>4</td>\n",
       "    </tr>\n",
       "    <tr>\n",
       "      <th>8</th>\n",
       "      <td>2.664473</td>\n",
       "      <td>0.138621</td>\n",
       "      <td>0.350346</td>\n",
       "      <td>0.018049</td>\n",
       "      <td>5</td>\n",
       "      <td>True</td>\n",
       "      <td>{'lasso__C': 5, 'tfidf__use_idf': True}</td>\n",
       "      <td>0.966821</td>\n",
       "      <td>0.956757</td>\n",
       "      <td>0.950579</td>\n",
       "      <td>0.956757</td>\n",
       "      <td>0.955212</td>\n",
       "      <td>0.957225</td>\n",
       "      <td>0.005305</td>\n",
       "      <td>2</td>\n",
       "    </tr>\n",
       "    <tr>\n",
       "      <th>9</th>\n",
       "      <td>2.769078</td>\n",
       "      <td>0.105106</td>\n",
       "      <td>0.344397</td>\n",
       "      <td>0.014190</td>\n",
       "      <td>5</td>\n",
       "      <td>False</td>\n",
       "      <td>{'lasso__C': 5, 'tfidf__use_idf': False}</td>\n",
       "      <td>0.968364</td>\n",
       "      <td>0.955985</td>\n",
       "      <td>0.952896</td>\n",
       "      <td>0.957529</td>\n",
       "      <td>0.955985</td>\n",
       "      <td>0.958152</td>\n",
       "      <td>0.005324</td>\n",
       "      <td>1</td>\n",
       "    </tr>\n",
       "  </tbody>\n",
       "</table>\n",
       "</div>"
      ],
      "text/plain": [
       "   mean_fit_time  std_fit_time  mean_score_time  std_score_time  \\\n",
       "0       1.899923      0.157432         0.351921        0.016565   \n",
       "1       1.796812      0.113236         0.360305        0.022778   \n",
       "2       1.755026      0.027815         0.332348        0.028881   \n",
       "3       1.732984      0.021116         0.353035        0.017924   \n",
       "4       1.753875      0.026370         0.358705        0.017523   \n",
       "5       1.807679      0.088731         0.332514        0.028496   \n",
       "6       1.794865      0.041777         0.356022        0.013506   \n",
       "7       1.815354      0.061064         0.345132        0.016560   \n",
       "8       2.664473      0.138621         0.350346        0.018049   \n",
       "9       2.769078      0.105106         0.344397        0.014190   \n",
       "\n",
       "  param_lasso__C param_tfidf__use_idf  \\\n",
       "0           0.05                 True   \n",
       "1           0.05                False   \n",
       "2            0.1                 True   \n",
       "3            0.1                False   \n",
       "4            0.5                 True   \n",
       "5            0.5                False   \n",
       "6              1                 True   \n",
       "7              1                False   \n",
       "8              5                 True   \n",
       "9              5                False   \n",
       "\n",
       "                                        params  split0_test_score  \\\n",
       "0   {'lasso__C': 0.05, 'tfidf__use_idf': True}           0.771605   \n",
       "1  {'lasso__C': 0.05, 'tfidf__use_idf': False}           0.790123   \n",
       "2    {'lasso__C': 0.1, 'tfidf__use_idf': True}           0.891975   \n",
       "3   {'lasso__C': 0.1, 'tfidf__use_idf': False}           0.870370   \n",
       "4    {'lasso__C': 0.5, 'tfidf__use_idf': True}           0.966049   \n",
       "5   {'lasso__C': 0.5, 'tfidf__use_idf': False}           0.964506   \n",
       "6      {'lasso__C': 1, 'tfidf__use_idf': True}           0.970679   \n",
       "7     {'lasso__C': 1, 'tfidf__use_idf': False}           0.969136   \n",
       "8      {'lasso__C': 5, 'tfidf__use_idf': True}           0.966821   \n",
       "9     {'lasso__C': 5, 'tfidf__use_idf': False}           0.968364   \n",
       "\n",
       "   split1_test_score  split2_test_score  split3_test_score  split4_test_score  \\\n",
       "0           0.755212           0.753668           0.749035           0.762934   \n",
       "1           0.780695           0.773745           0.772201           0.766023   \n",
       "2           0.849421           0.853282           0.837066           0.830116   \n",
       "3           0.850965           0.849421           0.840154           0.816988   \n",
       "4           0.948263           0.945946           0.955985           0.938996   \n",
       "5           0.945946           0.947490           0.955985           0.932819   \n",
       "6           0.958301           0.952896           0.954440           0.945174   \n",
       "7           0.956757           0.954440           0.955212           0.944402   \n",
       "8           0.956757           0.950579           0.956757           0.955212   \n",
       "9           0.955985           0.952896           0.957529           0.955985   \n",
       "\n",
       "   mean_test_score  std_test_score  rank_test_score  \n",
       "0         0.758491        0.007939               10  \n",
       "1         0.776558        0.008234                9  \n",
       "2         0.852372        0.021483                7  \n",
       "3         0.845580        0.017351                8  \n",
       "4         0.951048        0.009257                5  \n",
       "5         0.949349        0.010602                6  \n",
       "6         0.956298        0.008362                3  \n",
       "7         0.955989        0.007883                4  \n",
       "8         0.957225        0.005305                2  \n",
       "9         0.958152        0.005324                1  "
      ]
     },
     "execution_count": 18,
     "metadata": {},
     "output_type": "execute_result"
    }
   ],
   "source": [
    "lasso_result_df"
   ]
  },
  {
   "cell_type": "code",
   "execution_count": null,
   "id": "14d47d7e",
   "metadata": {},
   "outputs": [],
   "source": []
  },
  {
   "cell_type": "code",
   "execution_count": 19,
   "id": "57903e1c",
   "metadata": {
    "ExecuteTime": {
     "end_time": "2021-06-08T18:04:52.897570Z",
     "start_time": "2021-06-08T18:04:52.585760Z"
    }
   },
   "outputs": [],
   "source": [
    "#drop words from proc_text_all which are in our classifier lists \n",
    "unlabeled['tokens_without_class'] = [[word for word in words\n",
    "                                      if word not in human + critism]\n",
    "                                     for words in unlabeled[\"tokens\"]]\n",
    "\n",
    "unlabeled['text_w_class'] = unlabeled['tokens_without_class'].apply(\n",
    "                     lambda x: \" \".join( x))\n",
    "#unlabeled['tokens_without_class']  = [word for word in unlabeled['tokens'] if word not in human ]\n",
    "#result = ' '.join(resultwords)\n",
    "\n",
    "#print(result)"
   ]
  },
  {
   "cell_type": "code",
   "execution_count": 20,
   "id": "4189a539",
   "metadata": {
    "ExecuteTime": {
     "end_time": "2021-06-08T18:04:52.914329Z",
     "start_time": "2021-06-08T18:04:52.900238Z"
    }
   },
   "outputs": [
    {
     "name": "stdout",
     "output_type": "stream",
     "text": [
      "47\n",
      "41\n"
     ]
    }
   ],
   "source": [
    "print(len(unlabeled.tokens[1]))\n",
    "print(len(unlabeled.tokens_without_class[1]))\n",
    "#unlabeled.head()"
   ]
  },
  {
   "cell_type": "code",
   "execution_count": 38,
   "id": "5fab689f",
   "metadata": {
    "ExecuteTime": {
     "end_time": "2021-06-09T05:27:38.553096Z",
     "start_time": "2021-06-09T05:27:33.364331Z"
    }
   },
   "outputs": [
    {
     "name": "stdout",
     "output_type": "stream",
     "text": [
      "Accuracy and confusion matrix for best Lasso\n",
      "0.8719576719576719\n"
     ]
    },
    {
     "data": {
      "image/png": "[encoded data removed]",
      "text/plain": [
       "<Figure size 432x288 with 2 Axes>"
      ]
     },
     "metadata": {},
     "output_type": "display_data"
    }
   ],
   "source": [
    "#Splitting unlabeled features into X and y\n",
    "\n",
    "Xnew = unlabeled['proc_text_all']\n",
    "#Xnew = unlabeled['text_w_class']\n",
    "ynew = unlabeled['class_type'].values\n",
    "\n",
    "\n",
    "print('Accuracy and confusion matrix for best Lasso')\n",
    "\n",
    "#Fitting the best model with the labeled dataset\n",
    "bestlasso.fit(X, y)\n",
    "\n",
    "#Getting the accuracy score\n",
    "print(bestlasso.score(Xnew, ynew))\n",
    "\n",
    "#Confusion matrix Lasso \n",
    "plot_confusion_matrix(bestlasso, Xnew, ynew) \n",
    "plt.show()\n",
    "#plt.savefig('Accuracy and confusion matrix for best Lasso.png')"
   ]
  },
  {
   "cell_type": "code",
   "execution_count": 22,
   "id": "c0bc1277",
   "metadata": {
    "ExecuteTime": {
     "end_time": "2021-06-08T18:04:58.087511Z",
     "start_time": "2021-06-08T18:04:57.665924Z"
    }
   },
   "outputs": [
    {
     "name": "stdout",
     "output_type": "stream",
     "text": [
      "              precision    recall  f1-score   support\n",
      "\n",
      "           0       0.84      0.99      0.91       605\n",
      "           1       0.96      0.67      0.79       340\n",
      "\n",
      "    accuracy                           0.87       945\n",
      "   macro avg       0.90      0.83      0.85       945\n",
      "weighted avg       0.89      0.87      0.87       945\n",
      "\n"
     ]
    }
   ],
   "source": [
    "#Getting predicted values with Lasso\n",
    "ypred = bestlasso.predict(Xnew)\n",
    "\n",
    "#Getting classification report for Lasso\n",
    "print(classification_report(ypred,ynew))"
   ]
  },
  {
   "cell_type": "code",
   "execution_count": 23,
   "id": "bfec5d2b",
   "metadata": {
    "ExecuteTime": {
     "end_time": "2021-06-08T18:04:58.476878Z",
     "start_time": "2021-06-08T18:04:58.095778Z"
    }
   },
   "outputs": [],
   "source": [
    "#Repeating above steps for Lasso \n",
    "\n",
    "n_classes = 2\n",
    "\n",
    "fpr = dict()\n",
    "tpr = dict()\n",
    "roc_auc = dict()\n",
    "\n",
    "probs = bestlasso.predict_proba(Xnew)\n",
    "\n",
    "for i in range(n_classes):\n",
    "    fpr[i], tpr[i], threshold = roc_curve(ynew, probs[:, i])\n",
    "    roc_auc[i] = auc(fpr[i], tpr[i])\n",
    "    "
   ]
  },
  {
   "cell_type": "code",
   "execution_count": 24,
   "id": "b796e0b5",
   "metadata": {
    "ExecuteTime": {
     "end_time": "2021-06-08T18:04:58.494311Z",
     "start_time": "2021-06-08T18:04:58.480578Z"
    }
   },
   "outputs": [],
   "source": [
    "human_pred = []\n",
    "critism_pred = []\n",
    "for element in probs:\n",
    "    human_pred.append(element[0])\n",
    "    critism_pred.append(element[1])\n",
    "    "
   ]
  },
  {
   "cell_type": "code",
   "execution_count": 25,
   "id": "f7f68038",
   "metadata": {
    "ExecuteTime": {
     "end_time": "2021-06-08T18:04:58.510340Z",
     "start_time": "2021-06-08T18:04:58.498269Z"
    }
   },
   "outputs": [],
   "source": [
    "unlabeled['human_pred'] = human_pred\n",
    "unlabeled['critism_pred'] = critism_pred"
   ]
  },
  {
   "cell_type": "code",
   "execution_count": 26,
   "id": "b5e6e71e",
   "metadata": {
    "ExecuteTime": {
     "end_time": "2021-06-08T18:04:58.833440Z",
     "start_time": "2021-06-08T18:04:58.517014Z"
    }
   },
   "outputs": [
    {
     "data": {
      "text/plain": [
       "<AxesSubplot:xlabel='actor'>"
      ]
     },
     "execution_count": 26,
     "metadata": {},
     "output_type": "execute_result"
    },
    {
     "data": {
      "image/png": "[encoded data removed]",
      "text/plain": [
       "<Figure size 432x288 with 1 Axes>"
      ]
     },
     "metadata": {
      "needs_background": "light"
     },
     "output_type": "display_data"
    }
   ],
   "source": [
    "unlabeled.groupby('actor')['human_pred'].mean().plot()"
   ]
  },
  {
   "cell_type": "code",
   "execution_count": 27,
   "id": "5ac70bfe",
   "metadata": {
    "ExecuteTime": {
     "end_time": "2021-06-08T18:04:58.873921Z",
     "start_time": "2021-06-08T18:04:58.848246Z"
    }
   },
   "outputs": [
    {
     "name": "stdout",
     "output_type": "stream",
     "text": [
      "critism predictions: actor\n",
      "AVestegnen         4.409537e-01\n",
      "ActionAidDK        5.198059e-01\n",
      "BornsVilkar        1.397510e-01\n",
      "CARE_Danmark       3.835960e-01\n",
      "CaritasDanmark     4.540559e-01\n",
      "DKIndsamling       8.099859e-08\n",
      "DRC_dk             4.233679e-01\n",
      "DignityDK          4.248262e-01\n",
      "MissionEast        1.519270e-01\n",
      "PlanBornefonden    3.465678e-01\n",
      "RTC_DK             3.727310e-01\n",
      "RefWelcome         6.420300e-01\n",
      "UNDP_Danmark       4.511161e-01\n",
      "UNICEFDK           3.003533e-01\n",
      "WFP_DK             8.742074e-02\n",
      "amnestydk          4.866119e-01\n",
      "blaakorsdanmark    1.576154e-01\n",
      "danmissiondk       1.933438e-01\n",
      "danskrodekors      2.148505e-01\n",
      "globaltfokus       5.300567e-01\n",
      "lgbt_asylum        5.446839e-01\n",
      "menneskeret        5.324441e-01\n",
      "msf_dk             2.936944e-01\n",
      "noedhjaelp         3.957100e-01\n",
      "oxfamibis          5.379452e-01\n",
      "redbarnetdk        1.717436e-01\n",
      "Name: critism_pred, dtype: float64\n",
      "human predictions: actor\n",
      "AVestegnen         0.559046\n",
      "ActionAidDK        0.480194\n",
      "BornsVilkar        0.860249\n",
      "CARE_Danmark       0.616404\n",
      "CaritasDanmark     0.545944\n",
      "DKIndsamling       1.000000\n",
      "DRC_dk             0.576632\n",
      "DignityDK          0.575174\n",
      "MissionEast        0.848073\n",
      "PlanBornefonden    0.653432\n",
      "RTC_DK             0.627269\n",
      "RefWelcome         0.357970\n",
      "UNDP_Danmark       0.548884\n",
      "UNICEFDK           0.699647\n",
      "WFP_DK             0.912579\n",
      "amnestydk          0.513388\n",
      "blaakorsdanmark    0.842385\n",
      "danmissiondk       0.806656\n",
      "danskrodekors      0.785149\n",
      "globaltfokus       0.469943\n",
      "lgbt_asylum        0.455316\n",
      "menneskeret        0.467556\n",
      "msf_dk             0.706306\n",
      "noedhjaelp         0.604290\n",
      "oxfamibis          0.462055\n",
      "redbarnetdk        0.828256\n",
      "Name: human_pred, dtype: float64\n"
     ]
    }
   ],
   "source": [
    "critism_p = unlabeled.groupby('actor')['critism_pred'].mean()\n",
    "human_p = unlabeled.groupby('actor')['human_pred'].mean()\n",
    "print(\"critism predictions:\", unlabeled.groupby('actor')['critism_pred'].mean())\n",
    "print(\"human predictions:\", unlabeled.groupby('actor')['human_pred'].mean())"
   ]
  },
  {
   "cell_type": "code",
   "execution_count": 62,
   "id": "aac5deda",
   "metadata": {
    "ExecuteTime": {
     "end_time": "2021-06-12T08:07:44.284367Z",
     "start_time": "2021-06-12T08:07:44.273179Z"
    }
   },
   "outputs": [
    {
     "data": {
      "text/plain": [
       "0.4409537033272377"
      ]
     },
     "execution_count": 62,
     "metadata": {},
     "output_type": "execute_result"
    }
   ],
   "source": []
  },
  {
   "cell_type": "code",
   "execution_count": 56,
   "id": "0ad0005b",
   "metadata": {
    "ExecuteTime": {
     "end_time": "2021-06-12T08:04:23.090334Z",
     "start_time": "2021-06-12T08:04:23.084384Z"
    }
   },
   "outputs": [],
   "source": [
    "human_p2 = 1 + 0 * critism_p"
   ]
  },
  {
   "cell_type": "code",
   "execution_count": 59,
   "id": "b0eb611c",
   "metadata": {
    "ExecuteTime": {
     "end_time": "2021-06-12T08:04:54.185898Z",
     "start_time": "2021-06-12T08:04:53.154680Z"
    }
   },
   "outputs": [
    {
     "data": {
      "image/png": "[encoded data removed]",
      "text/plain": [
       "<Figure size 432x360 with 1 Axes>"
      ]
     },
     "metadata": {},
     "output_type": "display_data"
    }
   ],
   "source": [
    "human_p2.plot(kind='bar', title='Average criticism prediction pr actor', ylabel='Mean score pr tweet',\n",
    "         xlabel='Actor', figsize=(6, 5), color=\"blue\")\n",
    "critism_p.plot(kind='bar', title='Average criticism prediction pr actor', ylabel='Mean score pr tweet',\n",
    "         xlabel='Actor', figsize=(6, 5), color=\"red\")\n",
    "\n",
    "plt.savefig('ave score of critism.png', bbox_inches='tight')"
   ]
  },
  {
   "cell_type": "code",
   "execution_count": 71,
   "id": "0db09bda",
   "metadata": {
    "ExecuteTime": {
     "end_time": "2021-06-12T08:12:56.604204Z",
     "start_time": "2021-06-12T08:12:55.545685Z"
    }
   },
   "outputs": [
    {
     "data": {
      "image/png": "[encoded data removed]",
      "text/plain": [
       "<Figure size 864x576 with 1 Axes>"
      ]
     },
     "metadata": {},
     "output_type": "display_data"
    }
   ],
   "source": [
    "\n",
    "df = pd.DataFrame({'human': human_p,\n",
    "                   'criticism': critism_p})\n",
    "ax = df.plot.barh(stacked=True, figsize=(12,8))\n",
    "plt.legend(loc=\"upper right\")\n",
    "plt.savefig('human_critisism_plot.png', bbox_inches='tight')"
   ]
  },
  {
   "cell_type": "code",
   "execution_count": 43,
   "id": "dc9c53c2",
   "metadata": {
    "ExecuteTime": {
     "end_time": "2021-06-09T07:15:56.575214Z",
     "start_time": "2021-06-09T07:15:55.607691Z"
    }
   },
   "outputs": [
    {
     "data": {
      "image/png": "[encoded data removed]",
      "text/plain": [
       "<Figure size 432x360 with 1 Axes>"
      ]
     },
     "metadata": {},
     "output_type": "display_data"
    }
   ],
   "source": [
    "human_p.plot(kind='bar', title='Average human prediction pr actor', ylabel='Mean score pr tweet',\n",
    "         xlabel='Actor', figsize=(6, 5))\n",
    "plt.savefig('ave score of human.png',bbox_inches='tight')"
   ]
  },
  {
   "cell_type": "code",
   "execution_count": 41,
   "id": "7c1c99a6",
   "metadata": {
    "ExecuteTime": {
     "end_time": "2021-06-09T05:29:27.020980Z",
     "start_time": "2021-06-09T05:29:26.649913Z"
    }
   },
   "outputs": [
    {
     "data": {
      "image/png": "[encoded data removed]",
      "text/plain": [
       "<Figure size 432x288 with 1 Axes>"
      ]
     },
     "metadata": {},
     "output_type": "display_data"
    }
   ],
   "source": [
    "#Plotting the ROC-curve and AUC-score for Lasso\n",
    "\n",
    "plt.figure()\n",
    "\n",
    "lw = 2\n",
    "\n",
    "plt.plot(fpr[1], tpr[1], color='darkorange', lw=lw, label='ROC curve (area = %0.5f)' % roc_auc[1])\n",
    "\n",
    "plt.plot([0, 1], [0, 1], color='navy', lw=lw, linestyle='--')\n",
    "\n",
    "plt.title('ROC-curve for Lasso')\n",
    "plt.xlabel('False Positive Rate')\n",
    "plt.ylabel('True Positive Rate')\n",
    "\n",
    "plt.legend(loc=\"lower right\")\n",
    "\n",
    "#plt.show()\n",
    "plt.savefig('ROC-curve for Lasso.png')"
   ]
  },
  {
   "cell_type": "markdown",
   "id": "4b4b4345",
   "metadata": {},
   "source": [
    "## Coefficient from Lasso model"
   ]
  },
  {
   "cell_type": "code",
   "execution_count": 31,
   "id": "842225e6",
   "metadata": {
    "ExecuteTime": {
     "end_time": "2021-06-08T18:05:00.194697Z",
     "start_time": "2021-06-08T18:05:00.182539Z"
    }
   },
   "outputs": [],
   "source": [
    "import numpy as np"
   ]
  },
  {
   "cell_type": "code",
   "execution_count": 32,
   "id": "adbb4917",
   "metadata": {
    "ExecuteTime": {
     "end_time": "2021-06-08T18:05:00.209435Z",
     "start_time": "2021-06-08T18:05:00.199768Z"
    }
   },
   "outputs": [
    {
     "data": {
      "text/plain": [
       "(329,)"
      ]
     },
     "execution_count": 32,
     "metadata": {},
     "output_type": "execute_result"
    }
   ],
   "source": [
    "#Getting the feature names \n",
    "feature_names = np.array(bestlasso.named_steps[\"vect\"].get_feature_names())\n",
    "feature_names.shape\n"
   ]
  },
  {
   "cell_type": "code",
   "execution_count": 33,
   "id": "f9340fb0",
   "metadata": {
    "ExecuteTime": {
     "end_time": "2021-06-08T18:05:00.230917Z",
     "start_time": "2021-06-08T18:05:00.215447Z"
    }
   },
   "outputs": [],
   "source": [
    "#Creating a dataframe with lasso coefficients (similar to above)\n",
    "lasso_coefs = pd.DataFrame(np.vstack((feature_names, bestlasso.named_steps['lasso'].coef_)).T, \n",
    "                                  columns = ['feat_name', 'coef'])\n",
    "#Converting column values from string type to float\n",
    "lasso_coefs['coef'] = lasso_coefs['coef'].astype(float)\n",
    "\n",
    "#Sort the features by the absolute value of their coefficient\n",
    "\n",
    "#Creating a column for absolute values\n",
    "lasso_coefs[\"abs_value\"] = lasso_coefs[\"coef\"].apply(lambda x: abs(x))\n",
    "\n",
    "#Creating a column of colors, based on whether the coefficient is positive or negative \n",
    "#(This step is not necessary - just for nice visualization)\n",
    "lasso_coefs[\"colors\"] = lasso_coefs[\"coef\"].apply(lambda x: \"green\" if x > 0 else \"red\")\n",
    "\n",
    "#Sorting the dataframe based on the absolute value column\n",
    "lasso_coefs = lasso_coefs.sort_values(\"abs_value\", ascending=False)\n"
   ]
  },
  {
   "cell_type": "code",
   "execution_count": 34,
   "id": "1f35be67",
   "metadata": {
    "ExecuteTime": {
     "end_time": "2021-06-08T18:05:00.266180Z",
     "start_time": "2021-06-08T18:05:00.234991Z"
    }
   },
   "outputs": [
    {
     "data": {
      "text/html": [
       "<div>\n",
       "<style scoped>\n",
       "    .dataframe tbody tr th:only-of-type {\n",
       "        vertical-align: middle;\n",
       "    }\n",
       "\n",
       "    .dataframe tbody tr th {\n",
       "        vertical-align: top;\n",
       "    }\n",
       "\n",
       "    .dataframe thead th {\n",
       "        text-align: right;\n",
       "    }\n",
       "</style>\n",
       "<table border=\"1\" class=\"dataframe\">\n",
       "  <thead>\n",
       "    <tr style=\"text-align: right;\">\n",
       "      <th></th>\n",
       "      <th>feat_name</th>\n",
       "      <th>coef</th>\n",
       "      <th>abs_value</th>\n",
       "      <th>colors</th>\n",
       "    </tr>\n",
       "  </thead>\n",
       "  <tbody>\n",
       "    <tr>\n",
       "      <th>56</th>\n",
       "      <td>demokrati</td>\n",
       "      <td>16.103151</td>\n",
       "      <td>16.103151</td>\n",
       "      <td>green</td>\n",
       "    </tr>\n",
       "    <tr>\n",
       "      <th>149</th>\n",
       "      <td>indsats</td>\n",
       "      <td>-14.738250</td>\n",
       "      <td>14.738250</td>\n",
       "      <td>red</td>\n",
       "    </tr>\n",
       "    <tr>\n",
       "      <th>17</th>\n",
       "      <td>ansvar</td>\n",
       "      <td>14.704586</td>\n",
       "      <td>14.704586</td>\n",
       "      <td>green</td>\n",
       "    </tr>\n",
       "    <tr>\n",
       "      <th>118</th>\n",
       "      <td>giver</td>\n",
       "      <td>-14.370944</td>\n",
       "      <td>14.370944</td>\n",
       "      <td>red</td>\n",
       "    </tr>\n",
       "    <tr>\n",
       "      <th>119</th>\n",
       "      <td>glad</td>\n",
       "      <td>-14.363528</td>\n",
       "      <td>14.363528</td>\n",
       "      <td>red</td>\n",
       "    </tr>\n",
       "    <tr>\n",
       "      <th>287</th>\n",
       "      <td>tak</td>\n",
       "      <td>-13.878446</td>\n",
       "      <td>13.878446</td>\n",
       "      <td>red</td>\n",
       "    </tr>\n",
       "    <tr>\n",
       "      <th>37</th>\n",
       "      <td>bruge</td>\n",
       "      <td>-13.848339</td>\n",
       "      <td>13.848339</td>\n",
       "      <td>red</td>\n",
       "    </tr>\n",
       "    <tr>\n",
       "      <th>275</th>\n",
       "      <td>støtte</td>\n",
       "      <td>-13.229552</td>\n",
       "      <td>13.229552</td>\n",
       "      <td>red</td>\n",
       "    </tr>\n",
       "    <tr>\n",
       "      <th>266</th>\n",
       "      <td>stille</td>\n",
       "      <td>-13.160146</td>\n",
       "      <td>13.160146</td>\n",
       "      <td>red</td>\n",
       "    </tr>\n",
       "    <tr>\n",
       "      <th>303</th>\n",
       "      <td>udsætte</td>\n",
       "      <td>13.087177</td>\n",
       "      <td>13.087177</td>\n",
       "      <td>green</td>\n",
       "    </tr>\n",
       "    <tr>\n",
       "      <th>206</th>\n",
       "      <td>møde</td>\n",
       "      <td>-12.898409</td>\n",
       "      <td>12.898409</td>\n",
       "      <td>red</td>\n",
       "    </tr>\n",
       "    <tr>\n",
       "      <th>27</th>\n",
       "      <td>behov</td>\n",
       "      <td>-12.868054</td>\n",
       "      <td>12.868054</td>\n",
       "      <td>red</td>\n",
       "    </tr>\n",
       "    <tr>\n",
       "      <th>80</th>\n",
       "      <td>eu</td>\n",
       "      <td>12.792862</td>\n",
       "      <td>12.792862</td>\n",
       "      <td>green</td>\n",
       "    </tr>\n",
       "    <tr>\n",
       "      <th>48</th>\n",
       "      <td>danmark</td>\n",
       "      <td>12.790836</td>\n",
       "      <td>12.790836</td>\n",
       "      <td>green</td>\n",
       "    </tr>\n",
       "    <tr>\n",
       "      <th>15</th>\n",
       "      <td>anbefaling</td>\n",
       "      <td>12.764096</td>\n",
       "      <td>12.764096</td>\n",
       "      <td>green</td>\n",
       "    </tr>\n",
       "    <tr>\n",
       "      <th>308</th>\n",
       "      <td>ung</td>\n",
       "      <td>-12.566299</td>\n",
       "      <td>12.566299</td>\n",
       "      <td>red</td>\n",
       "    </tr>\n",
       "    <tr>\n",
       "      <th>34</th>\n",
       "      <td>bidrage</td>\n",
       "      <td>12.334406</td>\n",
       "      <td>12.334406</td>\n",
       "      <td>green</td>\n",
       "    </tr>\n",
       "    <tr>\n",
       "      <th>31</th>\n",
       "      <td>beskyttelse</td>\n",
       "      <td>12.242537</td>\n",
       "      <td>12.242537</td>\n",
       "      <td>green</td>\n",
       "    </tr>\n",
       "    <tr>\n",
       "      <th>22</th>\n",
       "      <td>barn</td>\n",
       "      <td>-12.176523</td>\n",
       "      <td>12.176523</td>\n",
       "      <td>red</td>\n",
       "    </tr>\n",
       "    <tr>\n",
       "      <th>163</th>\n",
       "      <td>kræve</td>\n",
       "      <td>-12.130359</td>\n",
       "      <td>12.130359</td>\n",
       "      <td>red</td>\n",
       "    </tr>\n",
       "  </tbody>\n",
       "</table>\n",
       "</div>"
      ],
      "text/plain": [
       "       feat_name       coef  abs_value colors\n",
       "56     demokrati  16.103151  16.103151  green\n",
       "149      indsats -14.738250  14.738250    red\n",
       "17        ansvar  14.704586  14.704586  green\n",
       "118        giver -14.370944  14.370944    red\n",
       "119         glad -14.363528  14.363528    red\n",
       "287          tak -13.878446  13.878446    red\n",
       "37         bruge -13.848339  13.848339    red\n",
       "275       støtte -13.229552  13.229552    red\n",
       "266       stille -13.160146  13.160146    red\n",
       "303      udsætte  13.087177  13.087177  green\n",
       "206         møde -12.898409  12.898409    red\n",
       "27         behov -12.868054  12.868054    red\n",
       "80            eu  12.792862  12.792862  green\n",
       "48       danmark  12.790836  12.790836  green\n",
       "15    anbefaling  12.764096  12.764096  green\n",
       "308          ung -12.566299  12.566299    red\n",
       "34       bidrage  12.334406  12.334406  green\n",
       "31   beskyttelse  12.242537  12.242537  green\n",
       "22          barn -12.176523  12.176523    red\n",
       "163        kræve -12.130359  12.130359    red"
      ]
     },
     "execution_count": 34,
     "metadata": {},
     "output_type": "execute_result"
    }
   ],
   "source": [
    "#Viewing the top 20 most impactful coefficients\n",
    "lasso_coefs[:20]"
   ]
  },
  {
   "cell_type": "code",
   "execution_count": 35,
   "id": "59bb51c2",
   "metadata": {
    "ExecuteTime": {
     "end_time": "2021-06-08T18:05:00.606275Z",
     "start_time": "2021-06-08T18:05:00.275515Z"
    }
   },
   "outputs": [],
   "source": [
    "import seaborn as sns"
   ]
  },
  {
   "cell_type": "code",
   "execution_count": 48,
   "id": "fd6452b3",
   "metadata": {
    "ExecuteTime": {
     "end_time": "2021-06-09T07:18:37.432382Z",
     "start_time": "2021-06-09T07:18:36.796559Z"
    }
   },
   "outputs": [
    {
     "data": {
      "image/png": "[encoded data removed]",
      "text/plain": [
       "<Figure size 720x432 with 1 Axes>"
      ]
     },
     "metadata": {},
     "output_type": "display_data"
    }
   ],
   "source": [
    "sns.set_style('whitegrid')\n",
    "\n",
    "#Plotting the top 20 most impactful coefficients \n",
    "plt.figure(figsize = (10,6))\n",
    "\n",
    "sns.barplot(x = 'coef',y = 'feat_name', data = lasso_coefs[:20], palette = lasso_coefs[:20].colors)\n",
    "plt.ylabel('feature names')\n",
    "plt.xlabel('coefficients')\n",
    "plt.title('Top 20 coefficients in Lasso regression', fontsize = 14);\n",
    "\n",
    "plt.savefig('top 20 coef in Lasso.png')"
   ]
  },
  {
   "cell_type": "code",
   "execution_count": null,
   "id": "240d0f5f",
   "metadata": {},
   "outputs": [],
   "source": []
  }
 ],
 "metadata": {
  "kernelspec": {
   "display_name": "Python 3",
   "language": "python",
   "name": "python3"
  },
  "language_info": {
   "codemirror_mode": {
    "name": "ipython",
    "version": 3
   },
   "file_extension": ".py",
   "mimetype": "text/x-python",
   "name": "python",
   "nbconvert_exporter": "python",
   "pygments_lexer": "ipython3",
   "version": "3.8.8"
  },
  "toc": {
   "nav_menu": {},
   "number_sections": true,
   "sideBar": true,
   "skip_h1_title": false,
   "title_cell": "Table of Contents",
   "title_sidebar": "Contents",
   "toc_cell": false,
   "toc_position": {},
   "toc_section_display": true,
   "toc_window_display": false
  }
 },
 "nbformat": 4,
 "nbformat_minor": 5
}
