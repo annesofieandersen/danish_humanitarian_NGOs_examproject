{
 "cells": [
  {
   "cell_type": "markdown",
   "metadata": {},
   "source": [
    "# Notebook for LDA"
   ]
  },
  {
   "cell_type": "code",
   "execution_count": 2,
   "metadata": {
    "ExecuteTime": {
     "end_time": "2021-06-15T09:21:25.093098Z",
     "start_time": "2021-06-15T09:21:15.521338Z"
    }
   },
   "outputs": [],
   "source": [
    "#import relevant packages \n",
    "\n",
    "import pandas as pd\n",
    "import numpy as np\n",
    "\n",
    "from datetime import datetime #To check start and end time when running code\n",
    "from tqdm import tqdm #This is for creating progress bars.\n",
    "import logging #This is to provide logging of information when running the LDA\n",
    "import sys #This is to disable logging when it's no longer needed\n",
    "import pickle #To store and open previously saved machine learning models \n",
    "\n",
    "#import nlkt libaries\n",
    "import nltk\n",
    "from nltk.corpus import stopwords\n",
    "from nltk.stem import PorterStemmer\n",
    "from nltk.stem import LancasterStemmer # Porter is used below. This is an alternative, harsher stemmer. \n",
    "from nltk.stem import WordNetLemmatizer\n",
    "from nltk import word_tokenize, pos_tag\n",
    "from nltk.corpus import wordnet\n",
    "from nltk.tokenize import TweetTokenizer\n",
    "import string\n",
    "from collections import defaultdict\n",
    "\n",
    "#Importing packages for data visualization \n",
    "import matplotlib.pyplot as plt\n",
    "import seaborn as sns\n",
    "import math\n",
    "import matplotlib.gridspec as gridspec\n",
    "\n",
    "#import packages for regular expressions \n",
    "import regex\n",
    "import re"
   ]
  },
  {
   "cell_type": "code",
   "execution_count": 191,
   "metadata": {
    "ExecuteTime": {
     "end_time": "2021-06-02T09:16:46.766580Z",
     "start_time": "2021-06-02T09:16:46.723722Z"
    }
   },
   "outputs": [],
   "source": [
    "#Importing packages for LDA\n",
    "from gensim.corpora.dictionary import Dictionary\n",
    "from gensim.models.ldamulticore import LdaMulticore\n",
    "from gensim.models.ldamodel import LdaModel\n",
    "from sklearn.feature_extraction.text import CountVectorizer\n",
    "from gensim.corpora import Dictionary\n",
    "from gensim.models.ldamodel import LdaModel\n",
    "from gensim.models import CoherenceModel"
   ]
  },
  {
   "cell_type": "code",
   "execution_count": 4,
   "metadata": {
    "ExecuteTime": {
     "end_time": "2021-06-15T09:21:33.314952Z",
     "start_time": "2021-06-15T09:21:32.781313Z"
    }
   },
   "outputs": [],
   "source": [
    "#import datasets \n",
    "data_danish = pd.read_csv('data_danish.csv', index_col=0)"
   ]
  },
  {
   "cell_type": "code",
   "execution_count": 5,
   "metadata": {
    "ExecuteTime": {
     "end_time": "2021-06-15T09:22:31.455083Z",
     "start_time": "2021-06-15T09:22:31.421663Z"
    }
   },
   "outputs": [],
   "source": [
    "#Duplicates in data\n",
    "\n",
    "#we choose to drop duplicates whereas we do not risk to make topics based on the same \n",
    "#tweets and re-tweets.\n",
    "\n",
    "#dropping duplicates\n",
    "data_danish_lda = data_danish.drop_duplicates(subset = 'tweet')"
   ]
  },
  {
   "cell_type": "code",
   "execution_count": 6,
   "metadata": {
    "ExecuteTime": {
     "end_time": "2021-06-15T09:22:55.456410Z",
     "start_time": "2021-06-15T09:22:55.449849Z"
    }
   },
   "outputs": [
    {
     "name": "stdout",
     "output_type": "stream",
     "text": [
      "Tweets before dropping duplicates: (9449, 15)\n",
      "Tweets after dropping duplicates: (9273, 15)\n"
     ]
    }
   ],
   "source": [
    "print(\"Tweets before dropping duplicates:\", data_danish.shape)\n",
    "print(\"Tweets after dropping duplicates:\", data_danish_lda.shape)"
   ]
  },
  {
   "cell_type": "code",
   "execution_count": 351,
   "metadata": {
    "ExecuteTime": {
     "end_time": "2021-06-03T10:40:22.642834Z",
     "start_time": "2021-06-03T10:40:22.592147Z"
    }
   },
   "outputs": [
    {
     "data": {
      "text/html": [
       "<div>\n",
       "<style scoped>\n",
       "    .dataframe tbody tr th:only-of-type {\n",
       "        vertical-align: middle;\n",
       "    }\n",
       "\n",
       "    .dataframe tbody tr th {\n",
       "        vertical-align: top;\n",
       "    }\n",
       "\n",
       "    .dataframe thead th {\n",
       "        text-align: right;\n",
       "    }\n",
       "</style>\n",
       "<table border=\"1\" class=\"dataframe\">\n",
       "  <thead>\n",
       "    <tr style=\"text-align: right;\">\n",
       "      <th></th>\n",
       "      <th>actor</th>\n",
       "      <th>tweet</th>\n",
       "      <th>date</th>\n",
       "      <th>retweet</th>\n",
       "      <th>date_convert</th>\n",
       "      <th>@mentions</th>\n",
       "      <th>#hashtags</th>\n",
       "      <th>emojis</th>\n",
       "      <th>clean_text</th>\n",
       "      <th>language</th>\n",
       "      <th>words</th>\n",
       "      <th>without_stopwords</th>\n",
       "      <th>lemmas</th>\n",
       "      <th>proc_text</th>\n",
       "      <th>bigrams</th>\n",
       "      <th>proc_text_all</th>\n",
       "    </tr>\n",
       "  </thead>\n",
       "  <tbody>\n",
       "    <tr>\n",
       "      <th>0</th>\n",
       "      <td>PlanBornefonden</td>\n",
       "      <td>13-årige Larissa bor i Sahel-regionen, og var ...</td>\n",
       "      <td>2021-05-14 09:03:00</td>\n",
       "      <td>nan</td>\n",
       "      <td>2021-05-14</td>\n",
       "      <td>None</td>\n",
       "      <td></td>\n",
       "      <td></td>\n",
       "      <td>årige larissa bor i sahelregionen og var i tvu...</td>\n",
       "      <td>da</td>\n",
       "      <td>[årige, larissa, bor, i, sahelregionen, og, va...</td>\n",
       "      <td>[årige, larissa, bor, sahelregionen, tvunget, ...</td>\n",
       "      <td>[årig, larissa, bor, sahelregion, tvinge, flyg...</td>\n",
       "      <td>årig larissa bor sahelregion tvinge flygte lan...</td>\n",
       "      <td>[årig_larissa, larissa_bor, bor_sahelregion, s...</td>\n",
       "      <td>årig larissa bor sahelregion tvinge flygte lan...</td>\n",
       "    </tr>\n",
       "    <tr>\n",
       "      <th>1</th>\n",
       "      <td>PlanBornefonden</td>\n",
       "      <td>Vi ønsker alle muslimer en god Eid i aften! Ei...</td>\n",
       "      <td>2021-05-12 14:00:02</td>\n",
       "      <td>nan</td>\n",
       "      <td>2021-05-12</td>\n",
       "      <td>None</td>\n",
       "      <td></td>\n",
       "      <td></td>\n",
       "      <td>vi ønsker alle muslimer en god eid i aften eid...</td>\n",
       "      <td>da</td>\n",
       "      <td>[vi, ønsker, alle, muslimer, en, god, eid, i, ...</td>\n",
       "      <td>[ønsker, muslimer, god, eid, aften, eid, mubarak]</td>\n",
       "      <td>[ønske, muslim, god, eid, aften, eid, mubarak]</td>\n",
       "      <td>ønske muslim god eid aften eid mubarak</td>\n",
       "      <td>[ønske_muslim, muslim_god, god_eid, eid_aften,...</td>\n",
       "      <td>ønske muslim god eid aften eid mubarak ønske_m...</td>\n",
       "    </tr>\n",
       "    <tr>\n",
       "      <th>2</th>\n",
       "      <td>PlanBornefonden</td>\n",
       "      <td>Kom til samtalekøkken med @BosseStine og @Clau...</td>\n",
       "      <td>2021-05-12 11:58:03</td>\n",
       "      <td>@dorthe10</td>\n",
       "      <td>2021-05-12</td>\n",
       "      <td>[BosseStine, ClausMeyerDK]</td>\n",
       "      <td>dkfood</td>\n",
       "      <td></td>\n",
       "      <td>kom til samtalekøkken med og den maj og spis e...</td>\n",
       "      <td>da</td>\n",
       "      <td>[kom, til, samtalekøkken, med, og, den, maj, o...</td>\n",
       "      <td>[kom, samtalekøkken, maj, spis, lækker, retter...</td>\n",
       "      <td>[komme, samtalekøkken, maj, spise, lækker, ret...</td>\n",
       "      <td>komme samtalekøkken maj spise lækker ret menu ...</td>\n",
       "      <td>[komme_samtalekøkken, samtalekøkken_maj, maj_s...</td>\n",
       "      <td>komme samtalekøkken maj spise lækker ret menu ...</td>\n",
       "    </tr>\n",
       "  </tbody>\n",
       "</table>\n",
       "</div>"
      ],
      "text/plain": [
       "             actor                                              tweet  \\\n",
       "0  PlanBornefonden  13-årige Larissa bor i Sahel-regionen, og var ...   \n",
       "1  PlanBornefonden  Vi ønsker alle muslimer en god Eid i aften! Ei...   \n",
       "2  PlanBornefonden  Kom til samtalekøkken med @BosseStine og @Clau...   \n",
       "\n",
       "                 date    retweet date_convert                   @mentions  \\\n",
       "0 2021-05-14 09:03:00        nan   2021-05-14                        None   \n",
       "1 2021-05-12 14:00:02        nan   2021-05-12                        None   \n",
       "2 2021-05-12 11:58:03  @dorthe10   2021-05-12  [BosseStine, ClausMeyerDK]   \n",
       "\n",
       "  #hashtags emojis                                         clean_text  \\\n",
       "0                   årige larissa bor i sahelregionen og var i tvu...   \n",
       "1                   vi ønsker alle muslimer en god eid i aften eid...   \n",
       "2   dkfood          kom til samtalekøkken med og den maj og spis e...   \n",
       "\n",
       "  language                                              words  \\\n",
       "0       da  [årige, larissa, bor, i, sahelregionen, og, va...   \n",
       "1       da  [vi, ønsker, alle, muslimer, en, god, eid, i, ...   \n",
       "2       da  [kom, til, samtalekøkken, med, og, den, maj, o...   \n",
       "\n",
       "                                   without_stopwords  \\\n",
       "0  [årige, larissa, bor, sahelregionen, tvunget, ...   \n",
       "1  [ønsker, muslimer, god, eid, aften, eid, mubarak]   \n",
       "2  [kom, samtalekøkken, maj, spis, lækker, retter...   \n",
       "\n",
       "                                              lemmas  \\\n",
       "0  [årig, larissa, bor, sahelregion, tvinge, flyg...   \n",
       "1     [ønske, muslim, god, eid, aften, eid, mubarak]   \n",
       "2  [komme, samtalekøkken, maj, spise, lækker, ret...   \n",
       "\n",
       "                                           proc_text  \\\n",
       "0  årig larissa bor sahelregion tvinge flygte lan...   \n",
       "1             ønske muslim god eid aften eid mubarak   \n",
       "2  komme samtalekøkken maj spise lækker ret menu ...   \n",
       "\n",
       "                                             bigrams  \\\n",
       "0  [årig_larissa, larissa_bor, bor_sahelregion, s...   \n",
       "1  [ønske_muslim, muslim_god, god_eid, eid_aften,...   \n",
       "2  [komme_samtalekøkken, samtalekøkken_maj, maj_s...   \n",
       "\n",
       "                                       proc_text_all  \n",
       "0  årig larissa bor sahelregion tvinge flygte lan...  \n",
       "1  ønske muslim god eid aften eid mubarak ønske_m...  \n",
       "2  komme samtalekøkken maj spise lækker ret menu ...  "
      ]
     },
     "execution_count": 351,
     "metadata": {},
     "output_type": "execute_result"
    }
   ],
   "source": [
    "data_danish_lda.head(3)"
   ]
  },
  {
   "cell_type": "code",
   "execution_count": 352,
   "metadata": {
    "ExecuteTime": {
     "end_time": "2021-06-03T10:40:25.072637Z",
     "start_time": "2021-06-03T10:40:25.065053Z"
    }
   },
   "outputs": [
    {
     "data": {
      "text/plain": [
       "' Caritas dkaid humanitarian '"
      ]
     },
     "execution_count": 352,
     "metadata": {},
     "output_type": "execute_result"
    }
   ],
   "source": [
    "# checking a string with multiple hashtags \n",
    "data_danish_lda['#hashtags'][9446]"
   ]
  },
  {
   "cell_type": "code",
   "execution_count": 353,
   "metadata": {
    "ExecuteTime": {
     "end_time": "2021-06-03T10:40:33.021422Z",
     "start_time": "2021-06-03T10:40:32.834889Z"
    }
   },
   "outputs": [
    {
     "name": "stderr",
     "output_type": "stream",
     "text": [
      "<ipython-input-353-309197346355>:18: SettingWithCopyWarning: \n",
      "A value is trying to be set on a copy of a slice from a DataFrame.\n",
      "Try using .loc[row_indexer,col_indexer] = value instead\n",
      "\n",
      "See the caveats in the documentation: https://pandas.pydata.org/pandas-docs/stable/user_guide/indexing.html#returning-a-view-versus-a-copy\n",
      "  data_danish_lda['hashtags_clean'] = string\n"
     ]
    }
   ],
   "source": [
    "#removing whitespaces and popular hashtags\n",
    "string = []\n",
    "for element in data_danish_lda['#hashtags']:\n",
    "  item = re.sub(',', ' ', element) # remove ,\n",
    "  item = re.sub('-19', '', item) # remove 19 from covid-19\n",
    "  item = re.sub('19', '', item) # remove 19 from covid-19\n",
    "\n",
    "  item = item.lower() #lower all text \n",
    "  item = re.sub('dkpol', '', item) #remove hashtag\n",
    "  item = re.sub('_', '', item)\n",
    "  item = re.sub('dkaid', '', item) #remove hashtag\n",
    "  item = re.sub(r'\\s+', \" \", item) #remove more whitespaces\n",
    "  item = item.strip() #remove leading and last whitespace\n",
    "  #item = re.sub('[^a-zA-ZÆæØøÅå]+', ' ', element) # only keeping letters \n",
    "  string.append(item)\n",
    "\n",
    "\n",
    "data_danish_lda['hashtags_clean'] = string"
   ]
  },
  {
   "cell_type": "code",
   "execution_count": 174,
   "metadata": {
    "ExecuteTime": {
     "end_time": "2021-06-01T19:26:37.382436Z",
     "start_time": "2021-06-01T19:26:37.370909Z"
    }
   },
   "outputs": [
    {
     "data": {
      "text/plain": [
       "'caritas humanitarian'"
      ]
     },
     "execution_count": 174,
     "metadata": {},
     "output_type": "execute_result"
    }
   ],
   "source": [
    "data_danish_lda['hashtags_clean'][9446]"
   ]
  },
  {
   "cell_type": "markdown",
   "metadata": {},
   "source": [
    "We do not make bigrams of hashtags, as we methodological do not perceive hashtags as words, where grouping words appearing next to each other can be bring meaning and differetn meanings to a word."
   ]
  },
  {
   "cell_type": "code",
   "execution_count": 354,
   "metadata": {
    "ExecuteTime": {
     "end_time": "2021-06-03T10:41:07.223114Z",
     "start_time": "2021-06-03T10:41:07.032953Z"
    }
   },
   "outputs": [
    {
     "name": "stderr",
     "output_type": "stream",
     "text": [
      "100%|██████████| 9273/9273 [00:00<00:00, 55969.93it/s]\n",
      "<ipython-input-354-16df89138396>:7: SettingWithCopyWarning: \n",
      "A value is trying to be set on a copy of a slice from a DataFrame.\n",
      "Try using .loc[row_indexer,col_indexer] = value instead\n",
      "\n",
      "See the caveats in the documentation: https://pandas.pydata.org/pandas-docs/stable/user_guide/indexing.html#returning-a-view-versus-a-copy\n",
      "  data_danish_lda['hashtags_token'] = data_danish_lda['hashtags_clean'].progress_apply(lambda x: tokenizer.tokenize(x))\n"
     ]
    }
   ],
   "source": [
    "#Defining NLTK's TweetTokenizer\n",
    "tokenizer = TweetTokenizer()\n",
    "\n",
    "tqdm.pandas() #Creates a progress bar. Use progress_apply instead of apply.\n",
    "\n",
    "#Creating a column of unigrams from the stemmed tweet text\n",
    "data_danish_lda['hashtags_token'] = data_danish_lda['hashtags_clean'].progress_apply(lambda x: tokenizer.tokenize(x))"
   ]
  },
  {
   "cell_type": "code",
   "execution_count": 355,
   "metadata": {
    "ExecuteTime": {
     "end_time": "2021-06-03T10:41:12.081941Z",
     "start_time": "2021-06-03T10:41:11.971935Z"
    }
   },
   "outputs": [
    {
     "name": "stderr",
     "output_type": "stream",
     "text": [
      "<ipython-input-355-9dfa68ae85ce>:2: SettingWithCopyWarning: \n",
      "A value is trying to be set on a copy of a slice from a DataFrame.\n",
      "Try using .loc[row_indexer,col_indexer] = value instead\n",
      "\n",
      "See the caveats in the documentation: https://pandas.pydata.org/pandas-docs/stable/user_guide/indexing.html#returning-a-view-versus-a-copy\n",
      "  data_danish_lda['tokens'] = data_danish_lda.lemmas+data_danish_lda.bigrams+data_danish_lda.hashtags_token\n"
     ]
    }
   ],
   "source": [
    "#Combining unigrams, hashtags and bigrams in one column\n",
    "data_danish_lda['tokens'] = data_danish_lda.lemmas+data_danish_lda.bigrams+data_danish_lda.hashtags_token\n"
   ]
  },
  {
   "cell_type": "code",
   "execution_count": 356,
   "metadata": {
    "ExecuteTime": {
     "end_time": "2021-06-03T10:41:14.916741Z",
     "start_time": "2021-06-03T10:41:14.703958Z"
    }
   },
   "outputs": [],
   "source": [
    "\n",
    "#after inspecting the topics we can see that the word \"barn\" occurs in most of them\n",
    "#therefore, we try removing them \n",
    "data_danish_lda[\"tokens\"]\n",
    "words_no_f = []\n",
    "for lst in data_danish_lda[\"tokens\"]:\n",
    "    words_no_f.append([word for word in lst if word != \"f\"])\n",
    "\n",
    "#If you want \"barn\" in the LDA, outcomment this snip of code\n",
    "data_danish_lda[\"tokens\"]\n",
    "words_no_f = []\n",
    "for lst in data_danish_lda[\"tokens\"]:\n",
    "    words_no_f.append([word for word in lst if word != \"no\"])"
   ]
  },
  {
   "cell_type": "markdown",
   "metadata": {},
   "source": [
    "Notably, it is harder to apply coherent models to a corpus with short documents as we do with tweets (which are very short) than longer documents. "
   ]
  },
  {
   "cell_type": "markdown",
   "metadata": {
    "ExecuteTime": {
     "end_time": "2021-05-26T14:06:06.517847Z",
     "start_time": "2021-05-26T14:06:06.511893Z"
    }
   },
   "source": [
    "In the LDA model, we set alpha as auto, which mean that the alpha is both low and asymmetric (favourite topics in docs). Notably, we ackknowledge that every doc has a preference --> docs have dominated topics and we let the model distribute the topics by this \n",
    "\n",
    "We are interested in what the NGOs talk about, eg. the topics. Consequently, we have remove the #'s before the hashtags treating the hashtags as regular words. This is due to the methodological choice that we consider words and hashtags as the same \"value\" when creating topics. "
   ]
  },
  {
   "cell_type": "markdown",
   "metadata": {},
   "source": [
    "## Preparing the LDA"
   ]
  },
  {
   "cell_type": "code",
   "execution_count": 365,
   "metadata": {
    "ExecuteTime": {
     "end_time": "2021-06-03T10:51:16.139560Z",
     "start_time": "2021-06-03T10:51:12.847406Z"
    }
   },
   "outputs": [
    {
     "name": "stdout",
     "output_type": "stream",
     "text": [
      "116377\n",
      "2838\n"
     ]
    }
   ],
   "source": [
    "#Create a id2word dictionary\n",
    "\n",
    "#Insert the column where you saved unigram and bigram tokens between the parentheses\n",
    "id2word = Dictionary(data_danish_lda['tokens']) \n",
    "\n",
    "#Viewing how many words are in our vocabulary\n",
    "print(len(id2word))\n",
    "#Removing very frequent and infrequent words\n",
    "id2word.filter_extremes(no_below=10, no_above=.999, keep_n = None)\n",
    "print(len(id2word))\n",
    "\n",
    "#Creating a corpus object \n",
    "\n",
    "corpus = [id2word.doc2bow(doc) for doc in data_danish_lda['tokens']]\n",
    "\n",
    "\n",
    "# build a dictionary where for each tweet, each word has its own id.\n",
    "# We have xx tweets \n",
    "tweets_dictionary = Dictionary(data_danish_lda.tokens)\n",
    "\n",
    "# Here we build the corpus i.e. vectors with the number of occurence of each word per tweet\n",
    "tweets_corpus = [tweets_dictionary.doc2bow(tweet) for tweet in data_danish_lda.tokens]"
   ]
  },
  {
   "cell_type": "code",
   "execution_count": 358,
   "metadata": {
    "ExecuteTime": {
     "end_time": "2021-06-03T10:42:44.417660Z",
     "start_time": "2021-06-03T10:42:44.412987Z"
    }
   },
   "outputs": [
    {
     "name": "stdout",
     "output_type": "stream",
     "text": [
      "9273\n",
      "9273\n"
     ]
    }
   ],
   "source": [
    "print(len(corpus))\n",
    "print(len(tweets_corpus))"
   ]
  },
  {
   "cell_type": "markdown",
   "metadata": {},
   "source": [
    "We have explored removing very frequent words by setting no_above to 0.90. However, the results and topics were most distinct beforehand. Since we already have removed stopwords, lemmatized etc., we choose to set no_above to **.999*"
   ]
  },
  {
   "cell_type": "code",
   "execution_count": 161,
   "metadata": {
    "ExecuteTime": {
     "end_time": "2021-06-01T19:12:05.917049Z",
     "start_time": "2021-06-01T18:49:17.804012Z"
    }
   },
   "outputs": [],
   "source": [
    "# Make a for loop creating lda_models with different amount of topics\n",
    "# compute coherence\n",
    "tweets_coherence = []\n",
    "\n",
    "for nb_topics in range(1,30):\n",
    "    lda = LdaModel(tweets_corpus, num_topics = nb_topics, id2word = tweets_dictionary, \n",
    "                   passes=10, alpha='auto')\n",
    "    #^alpha='auto'\n",
    "    cohm = CoherenceModel(model=lda, corpus=tweets_corpus, dictionary=tweets_dictionary, coherence='u_mass')\n",
    "    coh = cohm.get_coherence()\n",
    "    tweets_coherence.append(coh)\n"
   ]
  },
  {
   "cell_type": "code",
   "execution_count": 162,
   "metadata": {
    "ExecuteTime": {
     "end_time": "2021-06-01T19:12:06.225249Z",
     "start_time": "2021-06-01T19:12:05.920460Z"
    }
   },
   "outputs": [
    {
     "data": {
      "image/png": "[encoded data removed]",
      "text/plain": [
       "<Figure size 720x360 with 1 Axes>"
      ]
     },
     "metadata": {
      "needs_background": "light"
     },
     "output_type": "display_data"
    }
   ],
   "source": [
    "# visualize coherence\n",
    "plt.figure(figsize=(10,5))\n",
    "plt.plot(range(1,30),tweets_coherence)\n",
    "plt.xlabel(\"Number of Topics\")\n",
    "plt.ylabel(\"Coherence Score\")\n",
    "plt.grid(zorder=3)\n",
    "#plt.show()\n",
    "\n",
    "plt.savefig('coherence_score_autoalpha_hashtags_09_test.png')"
   ]
  },
  {
   "cell_type": "code",
   "execution_count": 368,
   "metadata": {
    "ExecuteTime": {
     "end_time": "2021-06-03T11:28:31.036097Z",
     "start_time": "2021-06-03T11:27:14.307434Z"
    }
   },
   "outputs": [
    {
     "data": {
      "image/png": "[encoded data removed]",
      "text/plain": [
       "<Figure size 1440x1080 with 5 Axes>"
      ]
     },
     "metadata": {
      "needs_background": "light"
     },
     "output_type": "display_data"
    }
   ],
   "source": [
    "# 5 topics \n",
    "k = 5\n",
    "tweets_lda = LdaModel(tweets_corpus, num_topics = k, id2word = tweets_dictionary,\n",
    "                      passes=20, alpha='auto')\n",
    "\n",
    "#BETA PARAMETERS \n",
    "def plot_top_words(lda=tweets_lda, nb_topics=k, nb_words=10):\n",
    "    top_words = [[word for word,_ in lda.show_topic(topic_id, topn=50)] for topic_id in range(lda.num_topics)]\n",
    "    top_betas = [[beta for _,beta in lda.show_topic(topic_id, topn=50)] for topic_id in range(lda.num_topics)]\n",
    "\n",
    "    gs  = gridspec.GridSpec(round(math.sqrt(k))+1,round(math.sqrt(k))+1)\n",
    "    gs.update(wspace=0.5, hspace=0.5)\n",
    "    #Plot the data:\n",
    "    \n",
    "    plt.figure(figsize=(20,15))\n",
    "    for i in range(nb_topics):\n",
    "        ax = plt.subplot(gs[i])\n",
    "        plt.barh(range(nb_words), top_betas[i][:nb_words], align='center',\n",
    "                 color=('lightblue', 'lightsteelblue', 'lightseagreen', 'teal', 'cornflowerblue', 'royalblue', \n",
    "                        'rebeccapurple','blue', 'slateblue', 'navy'), ecolor='black')\n",
    "        ax.invert_yaxis()\n",
    "        ax.set_yticks(range(nb_words))\n",
    "        ax.set_yticklabels(top_words[i][:nb_words])\n",
    "        plt.title(\"Topic \"+str(i))\n",
    "    plt.savefig('til test.png')   \n",
    "  \n",
    "plot_top_words(tweets_lda, k, 10)"
   ]
  },
  {
   "cell_type": "code",
   "execution_count": 369,
   "metadata": {
    "ExecuteTime": {
     "end_time": "2021-06-03T11:34:03.828087Z",
     "start_time": "2021-06-03T11:34:03.768965Z"
    }
   },
   "outputs": [
    {
     "data": {
      "text/plain": [
       "(5, 116377)"
      ]
     },
     "execution_count": 369,
     "metadata": {},
     "output_type": "execute_result"
    }
   ],
   "source": [
    "#Viewing the shape of base_model.get_topics() to verify that the shape is (topics, tokens)\n",
    "tweets_lda.get_topics().shape "
   ]
  },
  {
   "cell_type": "markdown",
   "metadata": {},
   "source": [
    "## Investigating the LDA: Gamma parameters"
   ]
  },
  {
   "cell_type": "code",
   "execution_count": 372,
   "metadata": {
    "ExecuteTime": {
     "end_time": "2021-06-03T11:34:28.113261Z",
     "start_time": "2021-06-03T11:34:28.056786Z"
    }
   },
   "outputs": [
    {
     "data": {
      "text/html": [
       "<div>\n",
       "<style scoped>\n",
       "    .dataframe tbody tr th:only-of-type {\n",
       "        vertical-align: middle;\n",
       "    }\n",
       "\n",
       "    .dataframe tbody tr th {\n",
       "        vertical-align: top;\n",
       "    }\n",
       "\n",
       "    .dataframe thead th {\n",
       "        text-align: right;\n",
       "    }\n",
       "</style>\n",
       "<table border=\"1\" class=\"dataframe\">\n",
       "  <thead>\n",
       "    <tr style=\"text-align: right;\">\n",
       "      <th></th>\n",
       "      <th>level_0</th>\n",
       "      <th>index</th>\n",
       "      <th>actor</th>\n",
       "      <th>tweet</th>\n",
       "      <th>date</th>\n",
       "      <th>retweet</th>\n",
       "      <th>date_convert</th>\n",
       "      <th>@mentions</th>\n",
       "      <th>#hashtags</th>\n",
       "      <th>emojis</th>\n",
       "      <th>...</th>\n",
       "      <th>language</th>\n",
       "      <th>words</th>\n",
       "      <th>without_stopwords</th>\n",
       "      <th>lemmas</th>\n",
       "      <th>proc_text</th>\n",
       "      <th>bigrams</th>\n",
       "      <th>proc_text_all</th>\n",
       "      <th>hashtags_clean</th>\n",
       "      <th>hashtags_token</th>\n",
       "      <th>tokens</th>\n",
       "    </tr>\n",
       "  </thead>\n",
       "  <tbody>\n",
       "    <tr>\n",
       "      <th>9270</th>\n",
       "      <td>9270</td>\n",
       "      <td>9446</td>\n",
       "      <td>CaritasDanmark</td>\n",
       "      <td>Dolores Halpin-Bachmann har arbejdet for #Cari...</td>\n",
       "      <td>2020-02-07 10:49:47</td>\n",
       "      <td>nan</td>\n",
       "      <td>2020-02-07</td>\n",
       "      <td>None</td>\n",
       "      <td>Caritas dkaid humanitarian</td>\n",
       "      <td></td>\n",
       "      <td>...</td>\n",
       "      <td>da</td>\n",
       "      <td>[dolores, halpinbachmann, har, arbejdet, for, ...</td>\n",
       "      <td>[dolores, halpinbachmann, arbejdet, siden, man...</td>\n",
       "      <td>[dolore, halpinbachmann, arbejde, siden, mange...</td>\n",
       "      <td>dolore halpinbachmann arbejde siden mangeårig ...</td>\n",
       "      <td>[dolore_halpinbachmann, halpinbachmann_arbejde...</td>\n",
       "      <td>dolore halpinbachmann arbejde siden mangeårig ...</td>\n",
       "      <td>caritas humanitarian</td>\n",
       "      <td>[caritas, humanitarian]</td>\n",
       "      <td>[dolore, halpinbachmann, arbejde, siden, mange...</td>\n",
       "    </tr>\n",
       "    <tr>\n",
       "      <th>9271</th>\n",
       "      <td>9271</td>\n",
       "      <td>9447</td>\n",
       "      <td>CaritasDanmark</td>\n",
       "      <td>Børn skal være børn - https://t.co/h5xNWh7a7U ...</td>\n",
       "      <td>2020-01-31 13:48:55</td>\n",
       "      <td>nan</td>\n",
       "      <td>2020-01-31</td>\n",
       "      <td>None</td>\n",
       "      <td>DKindsamling BørnUdenHjem DKaid</td>\n",
       "      <td></td>\n",
       "      <td>...</td>\n",
       "      <td>da</td>\n",
       "      <td>[børn, skal, være, børn]</td>\n",
       "      <td>[børn, børn]</td>\n",
       "      <td>[barn, barn]</td>\n",
       "      <td>barn barn</td>\n",
       "      <td>[barn_barn]</td>\n",
       "      <td>barn barn barn_barn DKindsamling BørnUdenHjem ...</td>\n",
       "      <td>dkindsamling børnudenhjem</td>\n",
       "      <td>[dkindsamling, børnudenhjem]</td>\n",
       "      <td>[barn, barn, barn_barn, dkindsamling, børnuden...</td>\n",
       "    </tr>\n",
       "    <tr>\n",
       "      <th>9272</th>\n",
       "      <td>9272</td>\n",
       "      <td>9448</td>\n",
       "      <td>CaritasDanmark</td>\n",
       "      <td>”Ansvaret hviler i høj grad på jeres generatio...</td>\n",
       "      <td>2020-01-21 12:00:47</td>\n",
       "      <td>nan</td>\n",
       "      <td>2020-01-21</td>\n",
       "      <td>None</td>\n",
       "      <td>verdensmålene SDGs</td>\n",
       "      <td></td>\n",
       "      <td>...</td>\n",
       "      <td>da</td>\n",
       "      <td>[ansvaret, hviler, i, høj, grad, på, jeres, ge...</td>\n",
       "      <td>[ansvaret, hviler, høj, grad, jeres, generatio...</td>\n",
       "      <td>[ansvar, hvile, høj, grade, I, generation, lan...</td>\n",
       "      <td>ansvar hvile høj grade I generation langt fing...</td>\n",
       "      <td>[ansvar_hvile, hvile_høj, høj_grade, grade_I, ...</td>\n",
       "      <td>ansvar hvile høj grade I generation langt fing...</td>\n",
       "      <td>verdensmålene sdgs</td>\n",
       "      <td>[verdensmålene, sdgs]</td>\n",
       "      <td>[ansvar, hvile, høj, grade, I, generation, lan...</td>\n",
       "    </tr>\n",
       "  </tbody>\n",
       "</table>\n",
       "<p>3 rows × 21 columns</p>\n",
       "</div>"
      ],
      "text/plain": [
       "      level_0  index           actor  \\\n",
       "9270     9270   9446  CaritasDanmark   \n",
       "9271     9271   9447  CaritasDanmark   \n",
       "9272     9272   9448  CaritasDanmark   \n",
       "\n",
       "                                                  tweet                date  \\\n",
       "9270  Dolores Halpin-Bachmann har arbejdet for #Cari... 2020-02-07 10:49:47   \n",
       "9271  Børn skal være børn - https://t.co/h5xNWh7a7U ... 2020-01-31 13:48:55   \n",
       "9272  ”Ansvaret hviler i høj grad på jeres generatio... 2020-01-21 12:00:47   \n",
       "\n",
       "     retweet date_convert @mentions                          #hashtags emojis  \\\n",
       "9270     nan   2020-02-07      None        Caritas dkaid humanitarian           \n",
       "9271     nan   2020-01-31      None   DKindsamling BørnUdenHjem DKaid           \n",
       "9272     nan   2020-01-21      None                verdensmålene SDGs           \n",
       "\n",
       "      ... language                                              words  \\\n",
       "9270  ...       da  [dolores, halpinbachmann, har, arbejdet, for, ...   \n",
       "9271  ...       da                           [børn, skal, være, børn]   \n",
       "9272  ...       da  [ansvaret, hviler, i, høj, grad, på, jeres, ge...   \n",
       "\n",
       "                                      without_stopwords  \\\n",
       "9270  [dolores, halpinbachmann, arbejdet, siden, man...   \n",
       "9271                                       [børn, børn]   \n",
       "9272  [ansvaret, hviler, høj, grad, jeres, generatio...   \n",
       "\n",
       "                                                 lemmas  \\\n",
       "9270  [dolore, halpinbachmann, arbejde, siden, mange...   \n",
       "9271                                       [barn, barn]   \n",
       "9272  [ansvar, hvile, høj, grade, I, generation, lan...   \n",
       "\n",
       "                                              proc_text  \\\n",
       "9270  dolore halpinbachmann arbejde siden mangeårig ...   \n",
       "9271                                          barn barn   \n",
       "9272  ansvar hvile høj grade I generation langt fing...   \n",
       "\n",
       "                                                bigrams  \\\n",
       "9270  [dolore_halpinbachmann, halpinbachmann_arbejde...   \n",
       "9271                                        [barn_barn]   \n",
       "9272  [ansvar_hvile, hvile_høj, høj_grade, grade_I, ...   \n",
       "\n",
       "                                          proc_text_all  \\\n",
       "9270  dolore halpinbachmann arbejde siden mangeårig ...   \n",
       "9271  barn barn barn_barn DKindsamling BørnUdenHjem ...   \n",
       "9272  ansvar hvile høj grade I generation langt fing...   \n",
       "\n",
       "                 hashtags_clean                hashtags_token  \\\n",
       "9270       caritas humanitarian       [caritas, humanitarian]   \n",
       "9271  dkindsamling børnudenhjem  [dkindsamling, børnudenhjem]   \n",
       "9272         verdensmålene sdgs         [verdensmålene, sdgs]   \n",
       "\n",
       "                                                 tokens  \n",
       "9270  [dolore, halpinbachmann, arbejde, siden, mange...  \n",
       "9271  [barn, barn, barn_barn, dkindsamling, børnuden...  \n",
       "9272  [ansvar, hvile, høj, grade, I, generation, lan...  \n",
       "\n",
       "[3 rows x 21 columns]"
      ]
     },
     "execution_count": 372,
     "metadata": {},
     "output_type": "execute_result"
    }
   ],
   "source": [
    "data_danish_lda = data_danish_lda.reset_index()\n",
    "data_danish_lda.tail(3)"
   ]
  },
  {
   "cell_type": "code",
   "execution_count": 373,
   "metadata": {
    "ExecuteTime": {
     "end_time": "2021-06-03T11:34:44.038494Z",
     "start_time": "2021-06-03T11:34:40.954209Z"
    }
   },
   "outputs": [],
   "source": [
    "#Insert the corpus of documents in bag of word format and get a list of (topic, probability) per document. \n",
    "document_topics = list(tweets_lda.get_document_topics(tweets_corpus)) "
   ]
  },
  {
   "cell_type": "code",
   "execution_count": 374,
   "metadata": {
    "ExecuteTime": {
     "end_time": "2021-06-03T11:34:44.059514Z",
     "start_time": "2021-06-03T11:34:44.045879Z"
    }
   },
   "outputs": [
    {
     "data": {
      "text/plain": [
       "9273"
      ]
     },
     "execution_count": 374,
     "metadata": {},
     "output_type": "execute_result"
    }
   ],
   "source": [
    "len(document_topics)"
   ]
  },
  {
   "cell_type": "code",
   "execution_count": 381,
   "metadata": {
    "ExecuteTime": {
     "end_time": "2021-06-03T11:35:27.330572Z",
     "start_time": "2021-06-03T11:35:24.374638Z"
    }
   },
   "outputs": [],
   "source": [
    "#Creating a list of names for all 10 topics\n",
    "topics = ['topic_{}'.format(t) for t in range(0,5)]\n",
    "\n",
    "#Creating a dataframe of gamma probabilities \n",
    "gamma_probs = pd.DataFrame(np.zeros((len(document_topics),5)), columns = topics)\n",
    "\n",
    "for i, doc in enumerate(document_topics):\n",
    "    for pair in doc: \n",
    "        gamma_probs.loc[i,'topic_{}'.format(pair[0])] = pair[1]\n"
   ]
  },
  {
   "cell_type": "code",
   "execution_count": 383,
   "metadata": {
    "ExecuteTime": {
     "end_time": "2021-06-03T11:36:49.979430Z",
     "start_time": "2021-06-03T11:36:49.961813Z"
    }
   },
   "outputs": [
    {
     "data": {
      "text/plain": [
       "(9273, 5)"
      ]
     },
     "execution_count": 383,
     "metadata": {},
     "output_type": "execute_result"
    }
   ],
   "source": [
    "gamma_probs.shape"
   ]
  },
  {
   "cell_type": "code",
   "execution_count": 382,
   "metadata": {
    "ExecuteTime": {
     "end_time": "2021-06-03T11:36:47.741062Z",
     "start_time": "2021-06-03T11:36:47.700331Z"
    }
   },
   "outputs": [
    {
     "data": {
      "text/html": [
       "<div>\n",
       "<style scoped>\n",
       "    .dataframe tbody tr th:only-of-type {\n",
       "        vertical-align: middle;\n",
       "    }\n",
       "\n",
       "    .dataframe tbody tr th {\n",
       "        vertical-align: top;\n",
       "    }\n",
       "\n",
       "    .dataframe thead th {\n",
       "        text-align: right;\n",
       "    }\n",
       "</style>\n",
       "<table border=\"1\" class=\"dataframe\">\n",
       "  <thead>\n",
       "    <tr style=\"text-align: right;\">\n",
       "      <th></th>\n",
       "      <th>topic_0</th>\n",
       "      <th>topic_1</th>\n",
       "      <th>topic_2</th>\n",
       "      <th>topic_3</th>\n",
       "      <th>topic_4</th>\n",
       "    </tr>\n",
       "  </thead>\n",
       "  <tbody>\n",
       "    <tr>\n",
       "      <th>9268</th>\n",
       "      <td>0.00000</td>\n",
       "      <td>0.000000</td>\n",
       "      <td>0.000000</td>\n",
       "      <td>0.986477</td>\n",
       "      <td>0.000000</td>\n",
       "    </tr>\n",
       "    <tr>\n",
       "      <th>9269</th>\n",
       "      <td>0.00000</td>\n",
       "      <td>0.237831</td>\n",
       "      <td>0.000000</td>\n",
       "      <td>0.757490</td>\n",
       "      <td>0.000000</td>\n",
       "    </tr>\n",
       "    <tr>\n",
       "      <th>9270</th>\n",
       "      <td>0.00000</td>\n",
       "      <td>0.988638</td>\n",
       "      <td>0.000000</td>\n",
       "      <td>0.000000</td>\n",
       "      <td>0.000000</td>\n",
       "    </tr>\n",
       "    <tr>\n",
       "      <th>9271</th>\n",
       "      <td>0.01155</td>\n",
       "      <td>0.269588</td>\n",
       "      <td>0.010121</td>\n",
       "      <td>0.698640</td>\n",
       "      <td>0.010099</td>\n",
       "    </tr>\n",
       "    <tr>\n",
       "      <th>9272</th>\n",
       "      <td>0.00000</td>\n",
       "      <td>0.000000</td>\n",
       "      <td>0.000000</td>\n",
       "      <td>0.880649</td>\n",
       "      <td>0.113925</td>\n",
       "    </tr>\n",
       "  </tbody>\n",
       "</table>\n",
       "</div>"
      ],
      "text/plain": [
       "      topic_0   topic_1   topic_2   topic_3   topic_4\n",
       "9268  0.00000  0.000000  0.000000  0.986477  0.000000\n",
       "9269  0.00000  0.237831  0.000000  0.757490  0.000000\n",
       "9270  0.00000  0.988638  0.000000  0.000000  0.000000\n",
       "9271  0.01155  0.269588  0.010121  0.698640  0.010099\n",
       "9272  0.00000  0.000000  0.000000  0.880649  0.113925"
      ]
     },
     "execution_count": 382,
     "metadata": {},
     "output_type": "execute_result"
    }
   ],
   "source": [
    "gamma_probs.tail()"
   ]
  },
  {
   "cell_type": "code",
   "execution_count": 385,
   "metadata": {
    "ExecuteTime": {
     "end_time": "2021-06-03T11:37:06.859509Z",
     "start_time": "2021-06-03T11:37:06.750002Z"
    }
   },
   "outputs": [
    {
     "data": {
      "text/html": [
       "<div>\n",
       "<style scoped>\n",
       "    .dataframe tbody tr th:only-of-type {\n",
       "        vertical-align: middle;\n",
       "    }\n",
       "\n",
       "    .dataframe tbody tr th {\n",
       "        vertical-align: top;\n",
       "    }\n",
       "\n",
       "    .dataframe thead th {\n",
       "        text-align: right;\n",
       "    }\n",
       "</style>\n",
       "<table border=\"1\" class=\"dataframe\">\n",
       "  <thead>\n",
       "    <tr style=\"text-align: right;\">\n",
       "      <th></th>\n",
       "      <th>level_0</th>\n",
       "      <th>index</th>\n",
       "      <th>actor</th>\n",
       "      <th>tweet</th>\n",
       "      <th>date</th>\n",
       "      <th>retweet</th>\n",
       "      <th>date_convert</th>\n",
       "      <th>@mentions</th>\n",
       "      <th>#hashtags</th>\n",
       "      <th>emojis</th>\n",
       "      <th>...</th>\n",
       "      <th>bigrams</th>\n",
       "      <th>proc_text_all</th>\n",
       "      <th>hashtags_clean</th>\n",
       "      <th>hashtags_token</th>\n",
       "      <th>tokens</th>\n",
       "      <th>topic_0</th>\n",
       "      <th>topic_1</th>\n",
       "      <th>topic_2</th>\n",
       "      <th>topic_3</th>\n",
       "      <th>topic_4</th>\n",
       "    </tr>\n",
       "  </thead>\n",
       "  <tbody>\n",
       "    <tr>\n",
       "      <th>0</th>\n",
       "      <td>0</td>\n",
       "      <td>0</td>\n",
       "      <td>PlanBornefonden</td>\n",
       "      <td>13-årige Larissa bor i Sahel-regionen, og var ...</td>\n",
       "      <td>2021-05-14 09:03:00</td>\n",
       "      <td>nan</td>\n",
       "      <td>2021-05-14</td>\n",
       "      <td>None</td>\n",
       "      <td></td>\n",
       "      <td></td>\n",
       "      <td>...</td>\n",
       "      <td>[årig_larissa, larissa_bor, bor_sahelregion, s...</td>\n",
       "      <td>årig larissa bor sahelregion tvinge flygte lan...</td>\n",
       "      <td></td>\n",
       "      <td>[]</td>\n",
       "      <td>[årig, larissa, bor, sahelregion, tvinge, flyg...</td>\n",
       "      <td>0.000000</td>\n",
       "      <td>0.000000</td>\n",
       "      <td>0.992848</td>\n",
       "      <td>0.0</td>\n",
       "      <td>0.000000</td>\n",
       "    </tr>\n",
       "    <tr>\n",
       "      <th>1</th>\n",
       "      <td>1</td>\n",
       "      <td>1</td>\n",
       "      <td>PlanBornefonden</td>\n",
       "      <td>Vi ønsker alle muslimer en god Eid i aften! Ei...</td>\n",
       "      <td>2021-05-12 14:00:02</td>\n",
       "      <td>nan</td>\n",
       "      <td>2021-05-12</td>\n",
       "      <td>None</td>\n",
       "      <td></td>\n",
       "      <td></td>\n",
       "      <td>...</td>\n",
       "      <td>[ønske_muslim, muslim_god, god_eid, eid_aften,...</td>\n",
       "      <td>ønske muslim god eid aften eid mubarak ønske_m...</td>\n",
       "      <td></td>\n",
       "      <td>[]</td>\n",
       "      <td>[ønske, muslim, god, eid, aften, eid, mubarak,...</td>\n",
       "      <td>0.000000</td>\n",
       "      <td>0.000000</td>\n",
       "      <td>0.000000</td>\n",
       "      <td>0.0</td>\n",
       "      <td>0.976431</td>\n",
       "    </tr>\n",
       "    <tr>\n",
       "      <th>2</th>\n",
       "      <td>2</td>\n",
       "      <td>2</td>\n",
       "      <td>PlanBornefonden</td>\n",
       "      <td>Kom til samtalekøkken med @BosseStine og @Clau...</td>\n",
       "      <td>2021-05-12 11:58:03</td>\n",
       "      <td>@dorthe10</td>\n",
       "      <td>2021-05-12</td>\n",
       "      <td>[BosseStine, ClausMeyerDK]</td>\n",
       "      <td>dkfood</td>\n",
       "      <td></td>\n",
       "      <td>...</td>\n",
       "      <td>[komme_samtalekøkken, samtalekøkken_maj, maj_s...</td>\n",
       "      <td>komme samtalekøkken maj spise lækker ret menu ...</td>\n",
       "      <td>dkfood</td>\n",
       "      <td>[dkfood]</td>\n",
       "      <td>[komme, samtalekøkken, maj, spise, lækker, ret...</td>\n",
       "      <td>0.000000</td>\n",
       "      <td>0.000000</td>\n",
       "      <td>0.000000</td>\n",
       "      <td>0.0</td>\n",
       "      <td>0.989029</td>\n",
       "    </tr>\n",
       "    <tr>\n",
       "      <th>3</th>\n",
       "      <td>3</td>\n",
       "      <td>3</td>\n",
       "      <td>PlanBornefonden</td>\n",
       "      <td>Mali, Burkina Faso og Niger - også kendt som d...</td>\n",
       "      <td>2021-05-12 10:00:02</td>\n",
       "      <td>nan</td>\n",
       "      <td>2021-05-12</td>\n",
       "      <td>None</td>\n",
       "      <td></td>\n",
       "      <td></td>\n",
       "      <td>...</td>\n",
       "      <td>[mali_burkina, burkina_faso, faso_niger, niger...</td>\n",
       "      <td>mali burkina faso niger kendt central sahele s...</td>\n",
       "      <td></td>\n",
       "      <td>[]</td>\n",
       "      <td>[mali, burkina, faso, niger, kendt, central, s...</td>\n",
       "      <td>0.000000</td>\n",
       "      <td>0.994836</td>\n",
       "      <td>0.000000</td>\n",
       "      <td>0.0</td>\n",
       "      <td>0.000000</td>\n",
       "    </tr>\n",
       "    <tr>\n",
       "      <th>4</th>\n",
       "      <td>4</td>\n",
       "      <td>4</td>\n",
       "      <td>PlanBornefonden</td>\n",
       "      <td>Vores seje kollega Iben Østergaard Markussen f...</td>\n",
       "      <td>2021-05-12 09:23:14</td>\n",
       "      <td>@dorthe10</td>\n",
       "      <td>2021-05-12</td>\n",
       "      <td>[radioloud_dk, MaternityF]</td>\n",
       "      <td></td>\n",
       "      <td></td>\n",
       "      <td>...</td>\n",
       "      <td>[sej_kollega, kollega_ibe, ibe_østergaard, øst...</td>\n",
       "      <td>sej kollega ibe østergaard markusse fortæller ...</td>\n",
       "      <td></td>\n",
       "      <td>[]</td>\n",
       "      <td>[sej, kollega, ibe, østergaard, markusse, fort...</td>\n",
       "      <td>0.993019</td>\n",
       "      <td>0.000000</td>\n",
       "      <td>0.000000</td>\n",
       "      <td>0.0</td>\n",
       "      <td>0.000000</td>\n",
       "    </tr>\n",
       "  </tbody>\n",
       "</table>\n",
       "<p>5 rows × 26 columns</p>\n",
       "</div>"
      ],
      "text/plain": [
       "   level_0  index            actor  \\\n",
       "0        0      0  PlanBornefonden   \n",
       "1        1      1  PlanBornefonden   \n",
       "2        2      2  PlanBornefonden   \n",
       "3        3      3  PlanBornefonden   \n",
       "4        4      4  PlanBornefonden   \n",
       "\n",
       "                                               tweet                date  \\\n",
       "0  13-årige Larissa bor i Sahel-regionen, og var ... 2021-05-14 09:03:00   \n",
       "1  Vi ønsker alle muslimer en god Eid i aften! Ei... 2021-05-12 14:00:02   \n",
       "2  Kom til samtalekøkken med @BosseStine og @Clau... 2021-05-12 11:58:03   \n",
       "3  Mali, Burkina Faso og Niger - også kendt som d... 2021-05-12 10:00:02   \n",
       "4  Vores seje kollega Iben Østergaard Markussen f... 2021-05-12 09:23:14   \n",
       "\n",
       "     retweet date_convert                   @mentions #hashtags emojis  ...  \\\n",
       "0        nan   2021-05-14                        None                   ...   \n",
       "1        nan   2021-05-12                        None                   ...   \n",
       "2  @dorthe10   2021-05-12  [BosseStine, ClausMeyerDK]   dkfood          ...   \n",
       "3        nan   2021-05-12                        None                   ...   \n",
       "4  @dorthe10   2021-05-12  [radioloud_dk, MaternityF]                   ...   \n",
       "\n",
       "                                             bigrams  \\\n",
       "0  [årig_larissa, larissa_bor, bor_sahelregion, s...   \n",
       "1  [ønske_muslim, muslim_god, god_eid, eid_aften,...   \n",
       "2  [komme_samtalekøkken, samtalekøkken_maj, maj_s...   \n",
       "3  [mali_burkina, burkina_faso, faso_niger, niger...   \n",
       "4  [sej_kollega, kollega_ibe, ibe_østergaard, øst...   \n",
       "\n",
       "                                       proc_text_all hashtags_clean  \\\n",
       "0  årig larissa bor sahelregion tvinge flygte lan...                  \n",
       "1  ønske muslim god eid aften eid mubarak ønske_m...                  \n",
       "2  komme samtalekøkken maj spise lækker ret menu ...         dkfood   \n",
       "3  mali burkina faso niger kendt central sahele s...                  \n",
       "4  sej kollega ibe østergaard markusse fortæller ...                  \n",
       "\n",
       "  hashtags_token                                             tokens   topic_0  \\\n",
       "0             []  [årig, larissa, bor, sahelregion, tvinge, flyg...  0.000000   \n",
       "1             []  [ønske, muslim, god, eid, aften, eid, mubarak,...  0.000000   \n",
       "2       [dkfood]  [komme, samtalekøkken, maj, spise, lækker, ret...  0.000000   \n",
       "3             []  [mali, burkina, faso, niger, kendt, central, s...  0.000000   \n",
       "4             []  [sej, kollega, ibe, østergaard, markusse, fort...  0.993019   \n",
       "\n",
       "    topic_1   topic_2 topic_3   topic_4  \n",
       "0  0.000000  0.992848     0.0  0.000000  \n",
       "1  0.000000  0.000000     0.0  0.976431  \n",
       "2  0.000000  0.000000     0.0  0.989029  \n",
       "3  0.994836  0.000000     0.0  0.000000  \n",
       "4  0.000000  0.000000     0.0  0.000000  \n",
       "\n",
       "[5 rows x 26 columns]"
      ]
     },
     "execution_count": 385,
     "metadata": {},
     "output_type": "execute_result"
    }
   ],
   "source": [
    "#Merging with the original dataframe \n",
    "gamma_df = pd.concat((data_danish_lda,gamma_probs), axis = 1)\n",
    "\n",
    "#Viewing the concatenated dataframe\n",
    "gamma_df.head()"
   ]
  },
  {
   "cell_type": "code",
   "execution_count": 390,
   "metadata": {
    "ExecuteTime": {
     "end_time": "2021-06-03T11:42:49.074730Z",
     "start_time": "2021-06-03T11:42:49.066833Z"
    }
   },
   "outputs": [
    {
     "data": {
      "text/plain": [
       "(9273, 24)"
      ]
     },
     "execution_count": 390,
     "metadata": {},
     "output_type": "execute_result"
    }
   ],
   "source": [
    "gamma_df.shape\n"
   ]
  },
  {
   "cell_type": "code",
   "execution_count": 391,
   "metadata": {
    "ExecuteTime": {
     "end_time": "2021-06-03T11:43:47.973835Z",
     "start_time": "2021-06-03T11:43:46.415056Z"
    }
   },
   "outputs": [],
   "source": [
    "gamma_df.to_csv('gamma_df_lda_tweets_5topics.csv')"
   ]
  },
  {
   "cell_type": "markdown",
   "metadata": {},
   "source": [
    "### Vizualizing a topic over time "
   ]
  },
  {
   "cell_type": "code",
   "execution_count": 392,
   "metadata": {
    "ExecuteTime": {
     "end_time": "2021-06-03T11:55:41.494233Z",
     "start_time": "2021-06-03T11:55:41.446369Z"
    }
   },
   "outputs": [
    {
     "name": "stdout",
     "output_type": "stream",
     "text": [
      "------ Topic 0 ------\n",
      "barn dansk hjem verden syrien covid åre syrisk kvinde familie\n",
      "\n",
      "------ Topic 1 ------\n",
      "covid verden land menneske støtte barn læsse kvinde million danmark\n",
      "\n",
      "------ Topic 2 ------\n",
      "barn danmark dansk fængsle bruge hjælpe verden burde flere hjælp\n",
      "\n",
      "------ Topic 3 ------\n",
      "barn tak ung dksocial danmark støtte verden hjælp bruge læsse\n",
      "\n",
      "------ Topic 4 ------\n",
      "barn god danmark fokus komme klokke dksocial strategi menneskeret ung\n",
      "\n"
     ]
    }
   ],
   "source": [
    "#Using regex to find all words and filter them from the weights\n",
    "words = [re.findall(r'\"([^\"]*)\"',t[1]) for t in tweets_lda.print_topics(50,10)]\n",
    "for id, t in enumerate(words): \n",
    "    print(f\"------ Topic {id} ------\")\n",
    "    print(' '.join(t), end=\"\\n\\n\")\n",
    "    "
   ]
  },
  {
   "cell_type": "code",
   "execution_count": 398,
   "metadata": {
    "ExecuteTime": {
     "end_time": "2021-06-03T12:03:55.324424Z",
     "start_time": "2021-06-03T12:03:38.133218Z"
    }
   },
   "outputs": [
    {
     "data": {
      "image/png": "[encoded data removed]",
      "text/plain": [
       "<Figure size 1008x576 with 1 Axes>"
      ]
     },
     "metadata": {
      "needs_background": "light"
     },
     "output_type": "display_data"
    }
   ],
   "source": [
    "#Setting a theme\n",
    "\n",
    "#Plotting a figure and setting figure size\n",
    "plt.figure(figsize = (14,8))\n",
    "\n",
    "#Choosing colors\n",
    "palette = ['blue','red'] \n",
    "\n",
    "#Plotting the covid topic for the full dataset\n",
    "sns.lineplot(x = 'date_convert', y = 'topic_3', data = gamma_df, palette = palette)\n",
    "\n",
    "plt.title('Topic of xx over time (Topic x)', fontsize = 16)\n",
    "plt.ylabel('Topic prevalence')\n",
    "plt.xlabel('Date')\n",
    "\n",
    "plt.show()"
   ]
  },
  {
   "cell_type": "markdown",
   "metadata": {},
   "source": [
    "# LDA - aggregated tweets pr actor"
   ]
  },
  {
   "cell_type": "code",
   "execution_count": 406,
   "metadata": {
    "ExecuteTime": {
     "end_time": "2021-06-03T12:09:21.948816Z",
     "start_time": "2021-06-03T12:09:21.914165Z"
    }
   },
   "outputs": [
    {
     "data": {
      "text/html": [
       "<div>\n",
       "<style scoped>\n",
       "    .dataframe tbody tr th:only-of-type {\n",
       "        vertical-align: middle;\n",
       "    }\n",
       "\n",
       "    .dataframe tbody tr th {\n",
       "        vertical-align: top;\n",
       "    }\n",
       "\n",
       "    .dataframe thead th {\n",
       "        text-align: right;\n",
       "    }\n",
       "</style>\n",
       "<table border=\"1\" class=\"dataframe\">\n",
       "  <thead>\n",
       "    <tr style=\"text-align: right;\">\n",
       "      <th></th>\n",
       "      <th>actor</th>\n",
       "      <th>tweet</th>\n",
       "      <th>date</th>\n",
       "      <th>retweet</th>\n",
       "      <th>date_convert</th>\n",
       "      <th>@mentions</th>\n",
       "      <th>#hashtags</th>\n",
       "      <th>emojis</th>\n",
       "      <th>clean_text</th>\n",
       "      <th>language</th>\n",
       "      <th>words</th>\n",
       "      <th>without_stopwords</th>\n",
       "      <th>lemmas</th>\n",
       "      <th>proc_text</th>\n",
       "      <th>bigrams</th>\n",
       "      <th>proc_text_all</th>\n",
       "      <th>hashtags_clean</th>\n",
       "      <th>hashtags_token</th>\n",
       "      <th>tokens</th>\n",
       "    </tr>\n",
       "  </thead>\n",
       "  <tbody>\n",
       "    <tr>\n",
       "      <th>0</th>\n",
       "      <td>PlanBornefonden</td>\n",
       "      <td>13-årige Larissa bor i Sahel-regionen, og var ...</td>\n",
       "      <td>2021-05-14 09:03:00</td>\n",
       "      <td>nan</td>\n",
       "      <td>2021-05-14</td>\n",
       "      <td>None</td>\n",
       "      <td></td>\n",
       "      <td></td>\n",
       "      <td>årige larissa bor i sahelregionen og var i tvu...</td>\n",
       "      <td>da</td>\n",
       "      <td>[årige, larissa, bor, i, sahelregionen, og, va...</td>\n",
       "      <td>[årige, larissa, bor, sahelregionen, tvunget, ...</td>\n",
       "      <td>[årig, larissa, bor, sahelregion, tvinge, flyg...</td>\n",
       "      <td>årig larissa bor sahelregion tvinge flygte lan...</td>\n",
       "      <td>[årig_larissa, larissa_bor, bor_sahelregion, s...</td>\n",
       "      <td>årig larissa bor sahelregion tvinge flygte lan...</td>\n",
       "      <td></td>\n",
       "      <td>[]</td>\n",
       "      <td>[årig, larissa, bor, sahelregion, tvinge, flyg...</td>\n",
       "    </tr>\n",
       "    <tr>\n",
       "      <th>1</th>\n",
       "      <td>PlanBornefonden</td>\n",
       "      <td>Vi ønsker alle muslimer en god Eid i aften! Ei...</td>\n",
       "      <td>2021-05-12 14:00:02</td>\n",
       "      <td>nan</td>\n",
       "      <td>2021-05-12</td>\n",
       "      <td>None</td>\n",
       "      <td></td>\n",
       "      <td></td>\n",
       "      <td>vi ønsker alle muslimer en god eid i aften eid...</td>\n",
       "      <td>da</td>\n",
       "      <td>[vi, ønsker, alle, muslimer, en, god, eid, i, ...</td>\n",
       "      <td>[ønsker, muslimer, god, eid, aften, eid, mubarak]</td>\n",
       "      <td>[ønske, muslim, god, eid, aften, eid, mubarak]</td>\n",
       "      <td>ønske muslim god eid aften eid mubarak</td>\n",
       "      <td>[ønske_muslim, muslim_god, god_eid, eid_aften,...</td>\n",
       "      <td>ønske muslim god eid aften eid mubarak ønske_m...</td>\n",
       "      <td></td>\n",
       "      <td>[]</td>\n",
       "      <td>[ønske, muslim, god, eid, aften, eid, mubarak,...</td>\n",
       "    </tr>\n",
       "  </tbody>\n",
       "</table>\n",
       "</div>"
      ],
      "text/plain": [
       "             actor                                              tweet  \\\n",
       "0  PlanBornefonden  13-årige Larissa bor i Sahel-regionen, og var ...   \n",
       "1  PlanBornefonden  Vi ønsker alle muslimer en god Eid i aften! Ei...   \n",
       "\n",
       "                 date retweet date_convert @mentions #hashtags emojis  \\\n",
       "0 2021-05-14 09:03:00     nan   2021-05-14      None                    \n",
       "1 2021-05-12 14:00:02     nan   2021-05-12      None                    \n",
       "\n",
       "                                          clean_text language  \\\n",
       "0  årige larissa bor i sahelregionen og var i tvu...       da   \n",
       "1  vi ønsker alle muslimer en god eid i aften eid...       da   \n",
       "\n",
       "                                               words  \\\n",
       "0  [årige, larissa, bor, i, sahelregionen, og, va...   \n",
       "1  [vi, ønsker, alle, muslimer, en, god, eid, i, ...   \n",
       "\n",
       "                                   without_stopwords  \\\n",
       "0  [årige, larissa, bor, sahelregionen, tvunget, ...   \n",
       "1  [ønsker, muslimer, god, eid, aften, eid, mubarak]   \n",
       "\n",
       "                                              lemmas  \\\n",
       "0  [årig, larissa, bor, sahelregion, tvinge, flyg...   \n",
       "1     [ønske, muslim, god, eid, aften, eid, mubarak]   \n",
       "\n",
       "                                           proc_text  \\\n",
       "0  årig larissa bor sahelregion tvinge flygte lan...   \n",
       "1             ønske muslim god eid aften eid mubarak   \n",
       "\n",
       "                                             bigrams  \\\n",
       "0  [årig_larissa, larissa_bor, bor_sahelregion, s...   \n",
       "1  [ønske_muslim, muslim_god, god_eid, eid_aften,...   \n",
       "\n",
       "                                       proc_text_all hashtags_clean  \\\n",
       "0  årig larissa bor sahelregion tvinge flygte lan...                  \n",
       "1  ønske muslim god eid aften eid mubarak ønske_m...                  \n",
       "\n",
       "  hashtags_token                                             tokens  \n",
       "0             []  [årig, larissa, bor, sahelregion, tvinge, flyg...  \n",
       "1             []  [ønske, muslim, god, eid, aften, eid, mubarak,...  "
      ]
     },
     "execution_count": 406,
     "metadata": {},
     "output_type": "execute_result"
    }
   ],
   "source": [
    "data_danish_lda.head(2)\n"
   ]
  },
  {
   "cell_type": "code",
   "execution_count": 407,
   "metadata": {
    "ExecuteTime": {
     "end_time": "2021-06-03T12:09:30.945339Z",
     "start_time": "2021-06-03T12:09:30.823074Z"
    }
   },
   "outputs": [],
   "source": [
    "#data_danish_lda['tokens_str'] = data_danish_lda['tokens'].apply(str)\n",
    "data_danish_lda['tokens_str'] = [' '.join(map(str, l)) for l in data_danish_lda['tokens']]"
   ]
  },
  {
   "cell_type": "code",
   "execution_count": 408,
   "metadata": {
    "ExecuteTime": {
     "end_time": "2021-06-03T12:09:34.736285Z",
     "start_time": "2021-06-03T12:09:32.723181Z"
    }
   },
   "outputs": [
    {
     "name": "stderr",
     "output_type": "stream",
     "text": [
      "100%|██████████| 27/27 [00:01<00:00, 13.86it/s]\n"
     ]
    }
   ],
   "source": [
    "tweets_agg = data_danish_lda.groupby(['actor'], as_index = False).agg({'tweet': ' '.join,\n",
    "                                                                      'tokens_str': ' '.join})\n",
    "tqdm.pandas() #Creates a progress bar. Use progress_apply instead of apply.\n",
    "\n",
    "#Creating a column of unigrams from the stemmed tweet text\n",
    "tweets_agg['tokens'] = tweets_agg['tokens_str'].progress_apply(lambda x: tokenizer.tokenize(x))"
   ]
  },
  {
   "cell_type": "code",
   "execution_count": 409,
   "metadata": {
    "ExecuteTime": {
     "end_time": "2021-06-03T12:09:35.437613Z",
     "start_time": "2021-06-03T12:09:35.134814Z"
    }
   },
   "outputs": [],
   "source": [
    "\n",
    "#removing whitespaces and popular hashtags\n",
    "string = []\n",
    "for element in tweets_agg['tokens_str']:\n",
    "  item = re.sub('\\+', ' ', element) # remove ,\n",
    "  item = re.sub(r'\\s+', \" \", item) #remove more whitespaces\n",
    "\n",
    "  string.append(item)\n",
    "\n",
    "\n",
    "tweets_agg['tokens_str'] = string"
   ]
  },
  {
   "cell_type": "code",
   "execution_count": 410,
   "metadata": {
    "ExecuteTime": {
     "end_time": "2021-06-03T12:09:38.489410Z",
     "start_time": "2021-06-03T12:09:36.513282Z"
    }
   },
   "outputs": [
    {
     "name": "stderr",
     "output_type": "stream",
     "text": [
      "100%|██████████| 27/27 [00:01<00:00, 13.80it/s]\n"
     ]
    }
   ],
   "source": [
    "#Creating a column of unigrams from the stemmed tweet text\n",
    "tweets_agg['tokens'] = tweets_agg['tokens_str'].progress_apply(lambda x: tokenizer.tokenize(x))"
   ]
  },
  {
   "cell_type": "code",
   "execution_count": 411,
   "metadata": {
    "ExecuteTime": {
     "end_time": "2021-06-03T12:09:38.696378Z",
     "start_time": "2021-06-03T12:09:38.501259Z"
    }
   },
   "outputs": [],
   "source": [
    "#after inspecting the topics we can see that the word \"barn\" occurs in most of them\n",
    "#therefore, we try removing them \n",
    "\n",
    "words_no_s = []\n",
    "for lst in tweets_agg['tokens']:\n",
    "    words_no_s.append([word for word in lst if word != \"s\"])\n",
    "\n",
    "tweets_agg['tokens'] = words_no_s\n",
    "\n",
    "\n",
    "words_no_ = []\n",
    "for lst in tweets_agg['tokens']:\n",
    "    words_no_.append([word for word in lst if word != \"+\"])\n",
    "tweets_agg['tokens'] = words_no_\n",
    "\n",
    "words_no_1 = []\n",
    "for lst in tweets_agg['tokens']:\n",
    "    words_no_1.append([word for word in lst if word != \" \"])\n",
    "tweets_agg['tokens'] = words_no_1\n",
    "\n",
    "words_no_1 = []\n",
    "for lst in tweets_agg['tokens']:\n",
    "    words_no_1.append([word for word in lst if word != \"|\"])\n",
    "tweets_agg['tokens'] = words_no_1\n",
    "\n",
    "words_no_1 = []\n",
    "for lst in tweets_agg['tokens']:\n",
    "    words_no_1.append([word for word in lst if word != \"-\"])\n",
    "tweets_agg['tokens'] = words_no_1"
   ]
  },
  {
   "cell_type": "code",
   "execution_count": 412,
   "metadata": {
    "ExecuteTime": {
     "end_time": "2021-06-03T12:09:38.885744Z",
     "start_time": "2021-06-03T12:09:38.864232Z"
    }
   },
   "outputs": [
    {
     "data": {
      "text/html": [
       "<div>\n",
       "<style scoped>\n",
       "    .dataframe tbody tr th:only-of-type {\n",
       "        vertical-align: middle;\n",
       "    }\n",
       "\n",
       "    .dataframe tbody tr th {\n",
       "        vertical-align: top;\n",
       "    }\n",
       "\n",
       "    .dataframe thead th {\n",
       "        text-align: right;\n",
       "    }\n",
       "</style>\n",
       "<table border=\"1\" class=\"dataframe\">\n",
       "  <thead>\n",
       "    <tr style=\"text-align: right;\">\n",
       "      <th></th>\n",
       "      <th>actor</th>\n",
       "      <th>tweet</th>\n",
       "      <th>tokens_str</th>\n",
       "      <th>tokens</th>\n",
       "    </tr>\n",
       "  </thead>\n",
       "  <tbody>\n",
       "    <tr>\n",
       "      <th>0</th>\n",
       "      <td>ADRA_Danmark</td>\n",
       "      <td>Humanitær støtte til #Syrien sker i tæt samarb...</td>\n",
       "      <td>humanitær støtte ske samarbejde gode partner t...</td>\n",
       "      <td>[humanitær, støtte, ske, samarbejde, gode, par...</td>\n",
       "    </tr>\n",
       "    <tr>\n",
       "      <th>1</th>\n",
       "      <td>AVestegnen</td>\n",
       "      <td>Tænk at dine børn hopper på trampolin, mens de...</td>\n",
       "      <td>tænke din barn hoppe trampolin men ske bombeek...</td>\n",
       "      <td>[tænke, din, barn, hoppe, trampolin, men, ske,...</td>\n",
       "    </tr>\n",
       "  </tbody>\n",
       "</table>\n",
       "</div>"
      ],
      "text/plain": [
       "          actor                                              tweet  \\\n",
       "0  ADRA_Danmark  Humanitær støtte til #Syrien sker i tæt samarb...   \n",
       "1    AVestegnen  Tænk at dine børn hopper på trampolin, mens de...   \n",
       "\n",
       "                                          tokens_str  \\\n",
       "0  humanitær støtte ske samarbejde gode partner t...   \n",
       "1  tænke din barn hoppe trampolin men ske bombeek...   \n",
       "\n",
       "                                              tokens  \n",
       "0  [humanitær, støtte, ske, samarbejde, gode, par...  \n",
       "1  [tænke, din, barn, hoppe, trampolin, men, ske,...  "
      ]
     },
     "execution_count": 412,
     "metadata": {},
     "output_type": "execute_result"
    }
   ],
   "source": [
    "tweets_agg.head(2)"
   ]
  },
  {
   "cell_type": "code",
   "execution_count": 413,
   "metadata": {
    "ExecuteTime": {
     "end_time": "2021-06-03T12:09:46.030633Z",
     "start_time": "2021-06-03T12:09:42.982488Z"
    }
   },
   "outputs": [
    {
     "name": "stdout",
     "output_type": "stream",
     "text": [
      "Length of id2word: 116060\n",
      "Length of id2word after filtering: 1273\n",
      "Length of corpus: 27\n",
      "27\n"
     ]
    }
   ],
   "source": [
    "#Create a id2word dictionary\n",
    "\n",
    "#Insert the column where you saved unigram and bigram tokens between the parentheses\n",
    "id2word = Dictionary(tweets_agg['tokens']) \n",
    "\n",
    "#Viewing how many words are in our vocabulary\n",
    "print('Length of id2word:', len(id2word))\n",
    "#Removing very frequent and infrequent words\n",
    "id2word.filter_extremes(no_below=10, no_above=.999, keep_n = None)\n",
    "print('Length of id2word after filtering:', len(id2word))\n",
    "\n",
    "#Creating a corpus object \n",
    "\n",
    "corpus = [id2word.doc2bow(doc) for doc in tweets_agg['tokens']]\n",
    "\n",
    "\n",
    "# build a dictionary where for each tweet, each word has its own id.\n",
    "# We have xx tweets \n",
    "tweets_dictionary = Dictionary(tweets_agg.tokens)\n",
    "\n",
    "# Here we build the corpus i.e. vectors with the number of occurence of each word per tweet\n",
    "tweets_corpus = [tweets_dictionary.doc2bow(tweet) for tweet in tweets_agg.tokens]\n",
    "\n",
    "print('Length of corpus:',len(corpus))\n",
    "print(len(tweets_corpus))"
   ]
  },
  {
   "cell_type": "code",
   "execution_count": 340,
   "metadata": {
    "ExecuteTime": {
     "end_time": "2021-06-03T07:45:51.431505Z",
     "start_time": "2021-06-03T07:37:30.059638Z"
    }
   },
   "outputs": [
    {
     "data": {
      "image/png": "[encoded data removed]",
      "text/plain": [
       "<Figure size 720x360 with 1 Axes>"
      ]
     },
     "metadata": {
      "needs_background": "light"
     },
     "output_type": "display_data"
    }
   ],
   "source": [
    "# Make a for loop creating lda_models with different amount of topics\n",
    "# compute coherence\n",
    "tweets_coherence = []\n",
    "\n",
    "for nb_topics in range(1,30):\n",
    "    lda = LdaModel(tweets_corpus, num_topics = nb_topics, id2word = tweets_dictionary, \n",
    "                   passes=10, alpha='auto')\n",
    "    #^alpha='auto'\n",
    "    cohm = CoherenceModel(model=lda, corpus=tweets_corpus, dictionary=tweets_dictionary, coherence='u_mass')\n",
    "    coh = cohm.get_coherence()\n",
    "    tweets_coherence.append(coh)\n",
    "\n",
    "# visualize coherence\n",
    "plt.figure(figsize=(10,5))\n",
    "plt.plot(range(1,30),tweets_coherence)\n",
    "plt.xlabel(\"Number of Topics\")\n",
    "plt.ylabel(\"Coherence Score\")\n",
    "plt.grid(zorder=3)\n",
    "#plt.show()\n",
    "\n",
    "plt.savefig('coherence_score_autoalpha_aggregated.png')"
   ]
  },
  {
   "cell_type": "code",
   "execution_count": 415,
   "metadata": {
    "ExecuteTime": {
     "end_time": "2021-06-03T12:11:30.787123Z",
     "start_time": "2021-06-03T12:11:02.660482Z"
    }
   },
   "outputs": [
    {
     "data": {
      "image/png": "[encoded data removed]",
      "text/plain": [
       "<Figure size 1440x1080 with 6 Axes>"
      ]
     },
     "metadata": {
      "needs_background": "light"
     },
     "output_type": "display_data"
    }
   ],
   "source": [
    "#10 topics with hashtags \n",
    "k = 6\n",
    "tweets_lda = LdaModel(tweets_corpus, num_topics = k, id2word = tweets_dictionary,\n",
    "                      passes=20, alpha='auto')\n",
    "\n",
    "#BETA PARAMETERS \n",
    "def plot_top_words(lda=tweets_lda, nb_topics=k, nb_words=10):\n",
    "    top_words = [[word for word,_ in lda.show_topic(topic_id, topn=50)] for topic_id in range(lda.num_topics)]\n",
    "    top_betas = [[beta for _,beta in lda.show_topic(topic_id, topn=50)] for topic_id in range(lda.num_topics)]\n",
    "\n",
    "    gs  = gridspec.GridSpec(round(math.sqrt(k))+1,round(math.sqrt(k))+1)\n",
    "    gs.update(wspace=0.5, hspace=0.5)\n",
    "    #Plot the data:\n",
    "    \n",
    "    plt.figure(figsize=(20,15))\n",
    "    for i in range(nb_topics):\n",
    "        ax = plt.subplot(gs[i])\n",
    "        plt.barh(range(nb_words), top_betas[i][:nb_words], align='center',\n",
    "                 color=('lightblue', 'lightsteelblue', 'lightseagreen', 'teal', 'cornflowerblue', 'royalblue', \n",
    "                        'rebeccapurple','blue', 'slateblue', 'navy'), ecolor='black')\n",
    "        ax.invert_yaxis()\n",
    "        ax.set_yticks(range(nb_words))\n",
    "        ax.set_yticklabels(top_words[i][:nb_words])\n",
    "        plt.title(\"Topic \"+str(i))\n",
    "    plt.savefig('6_topics_auto_agg.png')   \n",
    "  \n",
    "plot_top_words(tweets_lda, k, 10)"
   ]
  },
  {
   "cell_type": "markdown",
   "metadata": {},
   "source": [
    "## Gamma parameters for model on actor level"
   ]
  },
  {
   "cell_type": "code",
   "execution_count": 416,
   "metadata": {
    "ExecuteTime": {
     "end_time": "2021-06-03T12:15:14.664421Z",
     "start_time": "2021-06-03T12:15:14.633891Z"
    }
   },
   "outputs": [
    {
     "data": {
      "text/html": [
       "<div>\n",
       "<style scoped>\n",
       "    .dataframe tbody tr th:only-of-type {\n",
       "        vertical-align: middle;\n",
       "    }\n",
       "\n",
       "    .dataframe tbody tr th {\n",
       "        vertical-align: top;\n",
       "    }\n",
       "\n",
       "    .dataframe thead th {\n",
       "        text-align: right;\n",
       "    }\n",
       "</style>\n",
       "<table border=\"1\" class=\"dataframe\">\n",
       "  <thead>\n",
       "    <tr style=\"text-align: right;\">\n",
       "      <th></th>\n",
       "      <th>index</th>\n",
       "      <th>actor</th>\n",
       "      <th>tweet</th>\n",
       "      <th>tokens_str</th>\n",
       "      <th>tokens</th>\n",
       "    </tr>\n",
       "  </thead>\n",
       "  <tbody>\n",
       "    <tr>\n",
       "      <th>24</th>\n",
       "      <td>24</td>\n",
       "      <td>noedhjaelp</td>\n",
       "      <td>Tak for den store omsorg og opbakning ifm den ...</td>\n",
       "      <td>tak stor omsorg opbakning ifm personlig traged...</td>\n",
       "      <td>[tak, stor, omsorg, opbakning, ifm, personlig,...</td>\n",
       "    </tr>\n",
       "    <tr>\n",
       "      <th>25</th>\n",
       "      <td>25</td>\n",
       "      <td>oxfamibis</td>\n",
       "      <td>Vi er dybt bekymrede over situationen i Jerusa...</td>\n",
       "      <td>dybt bekymre situation jerusalem far yderliger...</td>\n",
       "      <td>[dybt, bekymre, situation, jerusalem, far, yde...</td>\n",
       "    </tr>\n",
       "    <tr>\n",
       "      <th>26</th>\n",
       "      <td>26</td>\n",
       "      <td>redbarnetdk</td>\n",
       "      <td>Børnene er altid de mest udsatte – også i konf...</td>\n",
       "      <td>barn altid udsat konflikt barn angst barrikade...</td>\n",
       "      <td>[barn, altid, udsat, konflikt, barn, angst, ba...</td>\n",
       "    </tr>\n",
       "  </tbody>\n",
       "</table>\n",
       "</div>"
      ],
      "text/plain": [
       "    index        actor                                              tweet  \\\n",
       "24     24   noedhjaelp  Tak for den store omsorg og opbakning ifm den ...   \n",
       "25     25    oxfamibis  Vi er dybt bekymrede over situationen i Jerusa...   \n",
       "26     26  redbarnetdk  Børnene er altid de mest udsatte – også i konf...   \n",
       "\n",
       "                                           tokens_str  \\\n",
       "24  tak stor omsorg opbakning ifm personlig traged...   \n",
       "25  dybt bekymre situation jerusalem far yderliger...   \n",
       "26  barn altid udsat konflikt barn angst barrikade...   \n",
       "\n",
       "                                               tokens  \n",
       "24  [tak, stor, omsorg, opbakning, ifm, personlig,...  \n",
       "25  [dybt, bekymre, situation, jerusalem, far, yde...  \n",
       "26  [barn, altid, udsat, konflikt, barn, angst, ba...  "
      ]
     },
     "execution_count": 416,
     "metadata": {},
     "output_type": "execute_result"
    }
   ],
   "source": [
    "tweets_agg = tweets_agg.reset_index()\n",
    "tweets_agg.tail(3)"
   ]
  },
  {
   "cell_type": "code",
   "execution_count": 417,
   "metadata": {
    "ExecuteTime": {
     "end_time": "2021-06-03T12:16:37.066257Z",
     "start_time": "2021-06-03T12:16:36.389650Z"
    }
   },
   "outputs": [],
   "source": [
    "#Insert the corpus of documents in bag of word format and get a list of (topic, probability) per document. \n",
    "document_topics = list(tweets_lda.get_document_topics(tweets_corpus)) \n",
    "len(document_topics)\n",
    "#Creating a list of names for all 10 topics\n",
    "topics = ['topic_{}'.format(t) for t in range(0,6)]\n",
    "\n",
    "#Creating a dataframe of gamma probabilities \n",
    "gamma_probs = pd.DataFrame(np.zeros((len(document_topics),6)), columns = topics)\n",
    "\n",
    "for i, doc in enumerate(document_topics):\n",
    "    for pair in doc: \n",
    "        gamma_probs.loc[i,'topic_{}'.format(pair[0])] = pair[1]\n",
    "\n",
    "gamma_probs.tail()\n",
    "#gamma_df = gamma_df.drop(columns=['level_0', 'index'])\n",
    "#Merging with the original dataframe \n",
    "gamma_df = pd.concat((tweets_agg,gamma_probs), axis = 1)\n",
    "\n",
    "#Viewing the concatenated dataframe\n",
    "gamma_df.head()\n",
    "gamma_df.shape\n",
    "\n",
    "gamma_df.to_csv('gamma_df_lda_actor_aggtweets_6topics.csv')"
   ]
  }
 ],
 "metadata": {
  "kernelspec": {
   "display_name": "Python 3",
   "language": "python",
   "name": "python3"
  },
  "language_info": {
   "codemirror_mode": {
    "name": "ipython",
    "version": 3
   },
   "file_extension": ".py",
   "mimetype": "text/x-python",
   "name": "python",
   "nbconvert_exporter": "python",
   "pygments_lexer": "ipython3",
   "version": "3.8.8"
  },
  "toc": {
   "nav_menu": {},
   "number_sections": true,
   "sideBar": true,
   "skip_h1_title": false,
   "title_cell": "Table of Contents",
   "title_sidebar": "Contents",
   "toc_cell": false,
   "toc_position": {},
   "toc_section_display": true,
   "toc_window_display": false
  }
 },
 "nbformat": 4,
 "nbformat_minor": 2
}
